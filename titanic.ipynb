{
 "cells": [
  {
   "cell_type": "code",
   "execution_count": 320,
   "metadata": {
    "collapsed": true
   },
   "outputs": [],
   "source": [
    "import pandas as pd\n",
    "from pandas import Series,DataFrame\n",
    "\n",
    "import numpy as np\n",
    "import matplotlib as mpl\n",
    "import matplotlib.pyplot as plt\n",
    "import seaborn as sns"
   ]
  },
  {
   "cell_type": "code",
   "execution_count": 321,
   "metadata": {
    "collapsed": true
   },
   "outputs": [],
   "source": [
    "titanic_df = pd.read_csv('train.csv')"
   ]
  },
  {
   "cell_type": "code",
   "execution_count": 322,
   "metadata": {
    "collapsed": true
   },
   "outputs": [],
   "source": [
    "def male_female_child(passenger):\n",
    "    # 年齢と性別のデータを取得します。\n",
    "    age,sex = passenger\n",
    "    # 年齢を調べて16歳未満なら、子供。それ以外は性別をそのまま返します。\n",
    "    if age < 16:\n",
    "        return 3\n",
    "    else:\n",
    "        if sex == 'male':\n",
    "            return 1\n",
    "        else:\n",
    "            return 2\n",
    "    \n"
   ]
  },
  {
   "cell_type": "code",
   "execution_count": 323,
   "metadata": {
    "collapsed": true
   },
   "outputs": [],
   "source": [
    "def pre_process(titanic_df):\n",
    "    # personという新しい列を追加します。\n",
    "    #titanic_df['Person'] = titanic_df[['Age','Sex']].apply(male_female_child,axis=1)\n",
    "    titanic_df['Sex'] = titanic_df['Sex'].map( {'female': 0, 'male': 1} ).astype(int)\n",
    "    \n",
    "    titanic_df['FamilySize'] = titanic_df.Parch + titanic_df.SibSp + 1\n",
    "    \n",
    "    titanic_df['Alone'] = 0\n",
    "    titanic_df['Alone'].loc[titanic_df['FamilySize'] == 1] = 1\n",
    "    titanic_df['Alone'].loc[titanic_df['FamilySize'] > 1 ] = 0\n",
    "    \n",
    "    titanic_df = titanic_df.fillna({'Embarked' : 'S'}) \n",
    "    titanic_df['Embarked'] = titanic_df['Embarked'].map( {'S': 1, 'C': 2, 'Q' : 3} )\n",
    "    \n",
    "    titanic_df['Title'] = titanic_df.Name.str.extract(' ([A-Za-z]+)\\.', expand=False)\n",
    "    titanic_df['Title'] = titanic_df['Title'].replace(['Lady', 'Countess','Capt', 'Col','Don', 'Dr', 'Major', 'Rev', 'Sir', 'Jonkheer', 'Dona'], 'Rare')\n",
    "    titanic_df['Title'] = titanic_df['Title'].replace('Mlle', 'Miss')\n",
    "    titanic_df['Title'] = titanic_df['Title'].replace('Ms', 'Miss')\n",
    "    titanic_df['Title'] = titanic_df['Title'].replace('Mme', 'Mrs')\n",
    "    titanic_df['Title'] = titanic_df['Title'].map( {\"Mr\": 1, \"Miss\": 2, \"Mrs\": 3, \"Master\": 4, \"Rare\": 5})\n",
    "\n",
    "    titanic_df = titanic_df.fillna({'Fare' : titanic_df.Fare.median()}) \n",
    "    titanic_df.loc[ titanic_df['Fare'] <= 7.91, 'Fare'] = 0\n",
    "    titanic_df.loc[(titanic_df['Fare'] > 7.91) & (titanic_df['Fare'] <= 14.454), 'Fare'] = 1\n",
    "    titanic_df.loc[(titanic_df['Fare'] > 14.454) & (titanic_df['Fare'] <= 31), 'Fare'] = 2\n",
    "    titanic_df.loc[ titanic_df['Fare'] > 31, 'Fare'] = 3\n",
    "    titanic_df['Fare'] = titanic_df['Fare'].astype(int)\n",
    "    \n",
    "    # Mapping Age\n",
    "    titanic_df = titanic_df.fillna({'Age' : titanic_df.Age.median()}) \n",
    "    titanic_df.loc[ titanic_df['Age'] <= 16, 'Age'] = 0\n",
    "    titanic_df.loc[(titanic_df['Age'] > 16) & (titanic_df['Age'] <= 32), 'Age'] = 1\n",
    "    titanic_df.loc[(titanic_df['Age'] > 32) & (titanic_df['Age'] <= 48), 'Age'] = 2\n",
    "    titanic_df.loc[(titanic_df['Age'] > 48) & (titanic_df['Age'] <= 64), 'Age'] = 3\n",
    "    titanic_df.loc[ titanic_df['Age'] > 64, 'Age'] = 4\n",
    "\n",
    "    titanic_df['Cabin'] = titanic_df.Cabin.str[:1].replace('T', None)\n",
    "    titanic_df['Cabin'] = titanic_df['Cabin'].map( {None: 0, 'A':1, 'B':1, 'C':1, 'D':1, 'E':1, 'F':1 ,'G':1} )\n",
    "    \n",
    "    return titanic_df"
   ]
  },
  {
   "cell_type": "code",
   "execution_count": 324,
   "metadata": {},
   "outputs": [
    {
     "name": "stderr",
     "output_type": "stream",
     "text": [
      "/usr/local/pyenv/versions/anaconda3-4.4.0/lib/python3.6/site-packages/pandas/core/indexing.py:179: SettingWithCopyWarning: \n",
      "A value is trying to be set on a copy of a slice from a DataFrame\n",
      "\n",
      "See the caveats in the documentation: http://pandas.pydata.org/pandas-docs/stable/indexing.html#indexing-view-versus-copy\n",
      "  self._setitem_with_indexer(indexer, value)\n"
     ]
    }
   ],
   "source": [
    "titanic_df = pre_process(titanic_df)"
   ]
  },
  {
   "cell_type": "code",
   "execution_count": 325,
   "metadata": {
    "collapsed": true
   },
   "outputs": [],
   "source": [
    "#from collections import Counter\n",
    "#Counter(titanic_df.Embarked)"
   ]
  },
  {
   "cell_type": "code",
   "execution_count": 326,
   "metadata": {},
   "outputs": [
    {
     "data": {
      "text/html": [
       "<div>\n",
       "<style>\n",
       "    .dataframe thead tr:only-child th {\n",
       "        text-align: right;\n",
       "    }\n",
       "\n",
       "    .dataframe thead th {\n",
       "        text-align: left;\n",
       "    }\n",
       "\n",
       "    .dataframe tbody tr th {\n",
       "        vertical-align: top;\n",
       "    }\n",
       "</style>\n",
       "<table border=\"1\" class=\"dataframe\">\n",
       "  <thead>\n",
       "    <tr style=\"text-align: right;\">\n",
       "      <th></th>\n",
       "      <th>PassengerId</th>\n",
       "      <th>Survived</th>\n",
       "      <th>Pclass</th>\n",
       "      <th>Sex</th>\n",
       "      <th>Age</th>\n",
       "      <th>SibSp</th>\n",
       "      <th>Parch</th>\n",
       "      <th>Fare</th>\n",
       "      <th>Cabin</th>\n",
       "      <th>Embarked</th>\n",
       "      <th>FamilySize</th>\n",
       "      <th>Alone</th>\n",
       "      <th>Title</th>\n",
       "    </tr>\n",
       "  </thead>\n",
       "  <tbody>\n",
       "    <tr>\n",
       "      <th>count</th>\n",
       "      <td>891.000000</td>\n",
       "      <td>891.000000</td>\n",
       "      <td>891.000000</td>\n",
       "      <td>891.000000</td>\n",
       "      <td>891.000000</td>\n",
       "      <td>891.000000</td>\n",
       "      <td>891.000000</td>\n",
       "      <td>891.000000</td>\n",
       "      <td>891.000000</td>\n",
       "      <td>891.000000</td>\n",
       "      <td>891.000000</td>\n",
       "      <td>891.000000</td>\n",
       "      <td>891.000000</td>\n",
       "    </tr>\n",
       "    <tr>\n",
       "      <th>mean</th>\n",
       "      <td>446.000000</td>\n",
       "      <td>0.383838</td>\n",
       "      <td>2.308642</td>\n",
       "      <td>0.647587</td>\n",
       "      <td>1.290685</td>\n",
       "      <td>0.523008</td>\n",
       "      <td>0.381594</td>\n",
       "      <td>1.505051</td>\n",
       "      <td>0.227834</td>\n",
       "      <td>1.361392</td>\n",
       "      <td>1.904602</td>\n",
       "      <td>0.602694</td>\n",
       "      <td>1.728395</td>\n",
       "    </tr>\n",
       "    <tr>\n",
       "      <th>std</th>\n",
       "      <td>257.353842</td>\n",
       "      <td>0.486592</td>\n",
       "      <td>0.836071</td>\n",
       "      <td>0.477990</td>\n",
       "      <td>0.812620</td>\n",
       "      <td>1.102743</td>\n",
       "      <td>0.806057</td>\n",
       "      <td>1.118148</td>\n",
       "      <td>0.419670</td>\n",
       "      <td>0.635673</td>\n",
       "      <td>1.613459</td>\n",
       "      <td>0.489615</td>\n",
       "      <td>1.030039</td>\n",
       "    </tr>\n",
       "    <tr>\n",
       "      <th>min</th>\n",
       "      <td>1.000000</td>\n",
       "      <td>0.000000</td>\n",
       "      <td>1.000000</td>\n",
       "      <td>0.000000</td>\n",
       "      <td>0.000000</td>\n",
       "      <td>0.000000</td>\n",
       "      <td>0.000000</td>\n",
       "      <td>0.000000</td>\n",
       "      <td>0.000000</td>\n",
       "      <td>1.000000</td>\n",
       "      <td>1.000000</td>\n",
       "      <td>0.000000</td>\n",
       "      <td>1.000000</td>\n",
       "    </tr>\n",
       "    <tr>\n",
       "      <th>25%</th>\n",
       "      <td>223.500000</td>\n",
       "      <td>0.000000</td>\n",
       "      <td>2.000000</td>\n",
       "      <td>0.000000</td>\n",
       "      <td>1.000000</td>\n",
       "      <td>0.000000</td>\n",
       "      <td>0.000000</td>\n",
       "      <td>0.500000</td>\n",
       "      <td>0.000000</td>\n",
       "      <td>1.000000</td>\n",
       "      <td>1.000000</td>\n",
       "      <td>0.000000</td>\n",
       "      <td>1.000000</td>\n",
       "    </tr>\n",
       "    <tr>\n",
       "      <th>50%</th>\n",
       "      <td>446.000000</td>\n",
       "      <td>0.000000</td>\n",
       "      <td>3.000000</td>\n",
       "      <td>1.000000</td>\n",
       "      <td>1.000000</td>\n",
       "      <td>0.000000</td>\n",
       "      <td>0.000000</td>\n",
       "      <td>2.000000</td>\n",
       "      <td>0.000000</td>\n",
       "      <td>1.000000</td>\n",
       "      <td>1.000000</td>\n",
       "      <td>1.000000</td>\n",
       "      <td>1.000000</td>\n",
       "    </tr>\n",
       "    <tr>\n",
       "      <th>75%</th>\n",
       "      <td>668.500000</td>\n",
       "      <td>1.000000</td>\n",
       "      <td>3.000000</td>\n",
       "      <td>1.000000</td>\n",
       "      <td>2.000000</td>\n",
       "      <td>1.000000</td>\n",
       "      <td>0.000000</td>\n",
       "      <td>2.000000</td>\n",
       "      <td>0.000000</td>\n",
       "      <td>2.000000</td>\n",
       "      <td>2.000000</td>\n",
       "      <td>1.000000</td>\n",
       "      <td>2.000000</td>\n",
       "    </tr>\n",
       "    <tr>\n",
       "      <th>max</th>\n",
       "      <td>891.000000</td>\n",
       "      <td>1.000000</td>\n",
       "      <td>3.000000</td>\n",
       "      <td>1.000000</td>\n",
       "      <td>4.000000</td>\n",
       "      <td>8.000000</td>\n",
       "      <td>6.000000</td>\n",
       "      <td>3.000000</td>\n",
       "      <td>1.000000</td>\n",
       "      <td>3.000000</td>\n",
       "      <td>11.000000</td>\n",
       "      <td>1.000000</td>\n",
       "      <td>5.000000</td>\n",
       "    </tr>\n",
       "  </tbody>\n",
       "</table>\n",
       "</div>"
      ],
      "text/plain": [
       "       PassengerId    Survived      Pclass         Sex         Age  \\\n",
       "count   891.000000  891.000000  891.000000  891.000000  891.000000   \n",
       "mean    446.000000    0.383838    2.308642    0.647587    1.290685   \n",
       "std     257.353842    0.486592    0.836071    0.477990    0.812620   \n",
       "min       1.000000    0.000000    1.000000    0.000000    0.000000   \n",
       "25%     223.500000    0.000000    2.000000    0.000000    1.000000   \n",
       "50%     446.000000    0.000000    3.000000    1.000000    1.000000   \n",
       "75%     668.500000    1.000000    3.000000    1.000000    2.000000   \n",
       "max     891.000000    1.000000    3.000000    1.000000    4.000000   \n",
       "\n",
       "            SibSp       Parch        Fare       Cabin    Embarked  FamilySize  \\\n",
       "count  891.000000  891.000000  891.000000  891.000000  891.000000  891.000000   \n",
       "mean     0.523008    0.381594    1.505051    0.227834    1.361392    1.904602   \n",
       "std      1.102743    0.806057    1.118148    0.419670    0.635673    1.613459   \n",
       "min      0.000000    0.000000    0.000000    0.000000    1.000000    1.000000   \n",
       "25%      0.000000    0.000000    0.500000    0.000000    1.000000    1.000000   \n",
       "50%      0.000000    0.000000    2.000000    0.000000    1.000000    1.000000   \n",
       "75%      1.000000    0.000000    2.000000    0.000000    2.000000    2.000000   \n",
       "max      8.000000    6.000000    3.000000    1.000000    3.000000   11.000000   \n",
       "\n",
       "            Alone       Title  \n",
       "count  891.000000  891.000000  \n",
       "mean     0.602694    1.728395  \n",
       "std      0.489615    1.030039  \n",
       "min      0.000000    1.000000  \n",
       "25%      0.000000    1.000000  \n",
       "50%      1.000000    1.000000  \n",
       "75%      1.000000    2.000000  \n",
       "max      1.000000    5.000000  "
      ]
     },
     "execution_count": 326,
     "metadata": {},
     "output_type": "execute_result"
    }
   ],
   "source": [
    "titanic_df.describe()"
   ]
  },
  {
   "cell_type": "code",
   "execution_count": 327,
   "metadata": {},
   "outputs": [
    {
     "data": {
      "text/html": [
       "<div>\n",
       "<style>\n",
       "    .dataframe thead tr:only-child th {\n",
       "        text-align: right;\n",
       "    }\n",
       "\n",
       "    .dataframe thead th {\n",
       "        text-align: left;\n",
       "    }\n",
       "\n",
       "    .dataframe tbody tr th {\n",
       "        vertical-align: top;\n",
       "    }\n",
       "</style>\n",
       "<table border=\"1\" class=\"dataframe\">\n",
       "  <thead>\n",
       "    <tr style=\"text-align: right;\">\n",
       "      <th></th>\n",
       "      <th>PassengerId</th>\n",
       "      <th>Survived</th>\n",
       "      <th>Pclass</th>\n",
       "      <th>Name</th>\n",
       "      <th>Sex</th>\n",
       "      <th>Age</th>\n",
       "      <th>SibSp</th>\n",
       "      <th>Parch</th>\n",
       "      <th>Ticket</th>\n",
       "      <th>Fare</th>\n",
       "      <th>Cabin</th>\n",
       "      <th>Embarked</th>\n",
       "      <th>FamilySize</th>\n",
       "      <th>Alone</th>\n",
       "      <th>Title</th>\n",
       "    </tr>\n",
       "  </thead>\n",
       "  <tbody>\n",
       "    <tr>\n",
       "      <th>0</th>\n",
       "      <td>1</td>\n",
       "      <td>0</td>\n",
       "      <td>3</td>\n",
       "      <td>Braund, Mr. Owen Harris</td>\n",
       "      <td>1</td>\n",
       "      <td>1.0</td>\n",
       "      <td>1</td>\n",
       "      <td>0</td>\n",
       "      <td>A/5 21171</td>\n",
       "      <td>0</td>\n",
       "      <td>0</td>\n",
       "      <td>1</td>\n",
       "      <td>2</td>\n",
       "      <td>0</td>\n",
       "      <td>1</td>\n",
       "    </tr>\n",
       "    <tr>\n",
       "      <th>1</th>\n",
       "      <td>2</td>\n",
       "      <td>1</td>\n",
       "      <td>1</td>\n",
       "      <td>Cumings, Mrs. John Bradley (Florence Briggs Th...</td>\n",
       "      <td>0</td>\n",
       "      <td>2.0</td>\n",
       "      <td>1</td>\n",
       "      <td>0</td>\n",
       "      <td>PC 17599</td>\n",
       "      <td>3</td>\n",
       "      <td>1</td>\n",
       "      <td>2</td>\n",
       "      <td>2</td>\n",
       "      <td>0</td>\n",
       "      <td>3</td>\n",
       "    </tr>\n",
       "    <tr>\n",
       "      <th>2</th>\n",
       "      <td>3</td>\n",
       "      <td>1</td>\n",
       "      <td>3</td>\n",
       "      <td>Heikkinen, Miss. Laina</td>\n",
       "      <td>0</td>\n",
       "      <td>1.0</td>\n",
       "      <td>0</td>\n",
       "      <td>0</td>\n",
       "      <td>STON/O2. 3101282</td>\n",
       "      <td>1</td>\n",
       "      <td>0</td>\n",
       "      <td>1</td>\n",
       "      <td>1</td>\n",
       "      <td>1</td>\n",
       "      <td>2</td>\n",
       "    </tr>\n",
       "    <tr>\n",
       "      <th>3</th>\n",
       "      <td>4</td>\n",
       "      <td>1</td>\n",
       "      <td>1</td>\n",
       "      <td>Futrelle, Mrs. Jacques Heath (Lily May Peel)</td>\n",
       "      <td>0</td>\n",
       "      <td>2.0</td>\n",
       "      <td>1</td>\n",
       "      <td>0</td>\n",
       "      <td>113803</td>\n",
       "      <td>3</td>\n",
       "      <td>1</td>\n",
       "      <td>1</td>\n",
       "      <td>2</td>\n",
       "      <td>0</td>\n",
       "      <td>3</td>\n",
       "    </tr>\n",
       "    <tr>\n",
       "      <th>4</th>\n",
       "      <td>5</td>\n",
       "      <td>0</td>\n",
       "      <td>3</td>\n",
       "      <td>Allen, Mr. William Henry</td>\n",
       "      <td>1</td>\n",
       "      <td>2.0</td>\n",
       "      <td>0</td>\n",
       "      <td>0</td>\n",
       "      <td>373450</td>\n",
       "      <td>1</td>\n",
       "      <td>0</td>\n",
       "      <td>1</td>\n",
       "      <td>1</td>\n",
       "      <td>1</td>\n",
       "      <td>1</td>\n",
       "    </tr>\n",
       "  </tbody>\n",
       "</table>\n",
       "</div>"
      ],
      "text/plain": [
       "   PassengerId  Survived  Pclass  \\\n",
       "0            1         0       3   \n",
       "1            2         1       1   \n",
       "2            3         1       3   \n",
       "3            4         1       1   \n",
       "4            5         0       3   \n",
       "\n",
       "                                                Name  Sex  Age  SibSp  Parch  \\\n",
       "0                            Braund, Mr. Owen Harris    1  1.0      1      0   \n",
       "1  Cumings, Mrs. John Bradley (Florence Briggs Th...    0  2.0      1      0   \n",
       "2                             Heikkinen, Miss. Laina    0  1.0      0      0   \n",
       "3       Futrelle, Mrs. Jacques Heath (Lily May Peel)    0  2.0      1      0   \n",
       "4                           Allen, Mr. William Henry    1  2.0      0      0   \n",
       "\n",
       "             Ticket  Fare  Cabin  Embarked  FamilySize  Alone  Title  \n",
       "0         A/5 21171     0      0         1           2      0      1  \n",
       "1          PC 17599     3      1         2           2      0      3  \n",
       "2  STON/O2. 3101282     1      0         1           1      1      2  \n",
       "3            113803     3      1         1           2      0      3  \n",
       "4            373450     1      0         1           1      1      1  "
      ]
     },
     "execution_count": 327,
     "metadata": {},
     "output_type": "execute_result"
    }
   ],
   "source": [
    "titanic_df.head()"
   ]
  },
  {
   "cell_type": "code",
   "execution_count": 328,
   "metadata": {
    "collapsed": true
   },
   "outputs": [],
   "source": [
    "train_data = titanic_df.drop(['PassengerId','Name','SibSp', 'Ticket'], 1)"
   ]
  },
  {
   "cell_type": "code",
   "execution_count": 329,
   "metadata": {},
   "outputs": [
    {
     "data": {
      "text/html": [
       "<div>\n",
       "<style>\n",
       "    .dataframe thead tr:only-child th {\n",
       "        text-align: right;\n",
       "    }\n",
       "\n",
       "    .dataframe thead th {\n",
       "        text-align: left;\n",
       "    }\n",
       "\n",
       "    .dataframe tbody tr th {\n",
       "        vertical-align: top;\n",
       "    }\n",
       "</style>\n",
       "<table border=\"1\" class=\"dataframe\">\n",
       "  <thead>\n",
       "    <tr style=\"text-align: right;\">\n",
       "      <th></th>\n",
       "      <th>Survived</th>\n",
       "      <th>Pclass</th>\n",
       "      <th>Sex</th>\n",
       "      <th>Age</th>\n",
       "      <th>Parch</th>\n",
       "      <th>Fare</th>\n",
       "      <th>Cabin</th>\n",
       "      <th>Embarked</th>\n",
       "      <th>FamilySize</th>\n",
       "      <th>Alone</th>\n",
       "      <th>Title</th>\n",
       "    </tr>\n",
       "  </thead>\n",
       "  <tbody>\n",
       "    <tr>\n",
       "      <th>count</th>\n",
       "      <td>891.000000</td>\n",
       "      <td>891.000000</td>\n",
       "      <td>891.000000</td>\n",
       "      <td>891.000000</td>\n",
       "      <td>891.000000</td>\n",
       "      <td>891.000000</td>\n",
       "      <td>891.000000</td>\n",
       "      <td>891.000000</td>\n",
       "      <td>891.000000</td>\n",
       "      <td>891.000000</td>\n",
       "      <td>891.000000</td>\n",
       "    </tr>\n",
       "    <tr>\n",
       "      <th>mean</th>\n",
       "      <td>0.383838</td>\n",
       "      <td>2.308642</td>\n",
       "      <td>0.647587</td>\n",
       "      <td>1.290685</td>\n",
       "      <td>0.381594</td>\n",
       "      <td>1.505051</td>\n",
       "      <td>0.227834</td>\n",
       "      <td>1.361392</td>\n",
       "      <td>1.904602</td>\n",
       "      <td>0.602694</td>\n",
       "      <td>1.728395</td>\n",
       "    </tr>\n",
       "    <tr>\n",
       "      <th>std</th>\n",
       "      <td>0.486592</td>\n",
       "      <td>0.836071</td>\n",
       "      <td>0.477990</td>\n",
       "      <td>0.812620</td>\n",
       "      <td>0.806057</td>\n",
       "      <td>1.118148</td>\n",
       "      <td>0.419670</td>\n",
       "      <td>0.635673</td>\n",
       "      <td>1.613459</td>\n",
       "      <td>0.489615</td>\n",
       "      <td>1.030039</td>\n",
       "    </tr>\n",
       "    <tr>\n",
       "      <th>min</th>\n",
       "      <td>0.000000</td>\n",
       "      <td>1.000000</td>\n",
       "      <td>0.000000</td>\n",
       "      <td>0.000000</td>\n",
       "      <td>0.000000</td>\n",
       "      <td>0.000000</td>\n",
       "      <td>0.000000</td>\n",
       "      <td>1.000000</td>\n",
       "      <td>1.000000</td>\n",
       "      <td>0.000000</td>\n",
       "      <td>1.000000</td>\n",
       "    </tr>\n",
       "    <tr>\n",
       "      <th>25%</th>\n",
       "      <td>0.000000</td>\n",
       "      <td>2.000000</td>\n",
       "      <td>0.000000</td>\n",
       "      <td>1.000000</td>\n",
       "      <td>0.000000</td>\n",
       "      <td>0.500000</td>\n",
       "      <td>0.000000</td>\n",
       "      <td>1.000000</td>\n",
       "      <td>1.000000</td>\n",
       "      <td>0.000000</td>\n",
       "      <td>1.000000</td>\n",
       "    </tr>\n",
       "    <tr>\n",
       "      <th>50%</th>\n",
       "      <td>0.000000</td>\n",
       "      <td>3.000000</td>\n",
       "      <td>1.000000</td>\n",
       "      <td>1.000000</td>\n",
       "      <td>0.000000</td>\n",
       "      <td>2.000000</td>\n",
       "      <td>0.000000</td>\n",
       "      <td>1.000000</td>\n",
       "      <td>1.000000</td>\n",
       "      <td>1.000000</td>\n",
       "      <td>1.000000</td>\n",
       "    </tr>\n",
       "    <tr>\n",
       "      <th>75%</th>\n",
       "      <td>1.000000</td>\n",
       "      <td>3.000000</td>\n",
       "      <td>1.000000</td>\n",
       "      <td>2.000000</td>\n",
       "      <td>0.000000</td>\n",
       "      <td>2.000000</td>\n",
       "      <td>0.000000</td>\n",
       "      <td>2.000000</td>\n",
       "      <td>2.000000</td>\n",
       "      <td>1.000000</td>\n",
       "      <td>2.000000</td>\n",
       "    </tr>\n",
       "    <tr>\n",
       "      <th>max</th>\n",
       "      <td>1.000000</td>\n",
       "      <td>3.000000</td>\n",
       "      <td>1.000000</td>\n",
       "      <td>4.000000</td>\n",
       "      <td>6.000000</td>\n",
       "      <td>3.000000</td>\n",
       "      <td>1.000000</td>\n",
       "      <td>3.000000</td>\n",
       "      <td>11.000000</td>\n",
       "      <td>1.000000</td>\n",
       "      <td>5.000000</td>\n",
       "    </tr>\n",
       "  </tbody>\n",
       "</table>\n",
       "</div>"
      ],
      "text/plain": [
       "         Survived      Pclass         Sex         Age       Parch        Fare  \\\n",
       "count  891.000000  891.000000  891.000000  891.000000  891.000000  891.000000   \n",
       "mean     0.383838    2.308642    0.647587    1.290685    0.381594    1.505051   \n",
       "std      0.486592    0.836071    0.477990    0.812620    0.806057    1.118148   \n",
       "min      0.000000    1.000000    0.000000    0.000000    0.000000    0.000000   \n",
       "25%      0.000000    2.000000    0.000000    1.000000    0.000000    0.500000   \n",
       "50%      0.000000    3.000000    1.000000    1.000000    0.000000    2.000000   \n",
       "75%      1.000000    3.000000    1.000000    2.000000    0.000000    2.000000   \n",
       "max      1.000000    3.000000    1.000000    4.000000    6.000000    3.000000   \n",
       "\n",
       "            Cabin    Embarked  FamilySize       Alone       Title  \n",
       "count  891.000000  891.000000  891.000000  891.000000  891.000000  \n",
       "mean     0.227834    1.361392    1.904602    0.602694    1.728395  \n",
       "std      0.419670    0.635673    1.613459    0.489615    1.030039  \n",
       "min      0.000000    1.000000    1.000000    0.000000    1.000000  \n",
       "25%      0.000000    1.000000    1.000000    0.000000    1.000000  \n",
       "50%      0.000000    1.000000    1.000000    1.000000    1.000000  \n",
       "75%      0.000000    2.000000    2.000000    1.000000    2.000000  \n",
       "max      1.000000    3.000000   11.000000    1.000000    5.000000  "
      ]
     },
     "execution_count": 329,
     "metadata": {},
     "output_type": "execute_result"
    }
   ],
   "source": [
    "train_data.describe()"
   ]
  },
  {
   "cell_type": "code",
   "execution_count": 330,
   "metadata": {},
   "outputs": [
    {
     "data": {
      "text/html": [
       "<div>\n",
       "<style>\n",
       "    .dataframe thead tr:only-child th {\n",
       "        text-align: right;\n",
       "    }\n",
       "\n",
       "    .dataframe thead th {\n",
       "        text-align: left;\n",
       "    }\n",
       "\n",
       "    .dataframe tbody tr th {\n",
       "        vertical-align: top;\n",
       "    }\n",
       "</style>\n",
       "<table border=\"1\" class=\"dataframe\">\n",
       "  <thead>\n",
       "    <tr style=\"text-align: right;\">\n",
       "      <th></th>\n",
       "      <th>Survived</th>\n",
       "      <th>Pclass</th>\n",
       "      <th>Sex</th>\n",
       "      <th>Age</th>\n",
       "      <th>Parch</th>\n",
       "      <th>Fare</th>\n",
       "      <th>Cabin</th>\n",
       "      <th>Embarked</th>\n",
       "      <th>FamilySize</th>\n",
       "      <th>Alone</th>\n",
       "      <th>Title</th>\n",
       "    </tr>\n",
       "  </thead>\n",
       "  <tbody>\n",
       "    <tr>\n",
       "      <th>0</th>\n",
       "      <td>0</td>\n",
       "      <td>3</td>\n",
       "      <td>1</td>\n",
       "      <td>1.0</td>\n",
       "      <td>0</td>\n",
       "      <td>0</td>\n",
       "      <td>0</td>\n",
       "      <td>1</td>\n",
       "      <td>2</td>\n",
       "      <td>0</td>\n",
       "      <td>1</td>\n",
       "    </tr>\n",
       "    <tr>\n",
       "      <th>1</th>\n",
       "      <td>1</td>\n",
       "      <td>1</td>\n",
       "      <td>0</td>\n",
       "      <td>2.0</td>\n",
       "      <td>0</td>\n",
       "      <td>3</td>\n",
       "      <td>1</td>\n",
       "      <td>2</td>\n",
       "      <td>2</td>\n",
       "      <td>0</td>\n",
       "      <td>3</td>\n",
       "    </tr>\n",
       "    <tr>\n",
       "      <th>2</th>\n",
       "      <td>1</td>\n",
       "      <td>3</td>\n",
       "      <td>0</td>\n",
       "      <td>1.0</td>\n",
       "      <td>0</td>\n",
       "      <td>1</td>\n",
       "      <td>0</td>\n",
       "      <td>1</td>\n",
       "      <td>1</td>\n",
       "      <td>1</td>\n",
       "      <td>2</td>\n",
       "    </tr>\n",
       "    <tr>\n",
       "      <th>3</th>\n",
       "      <td>1</td>\n",
       "      <td>1</td>\n",
       "      <td>0</td>\n",
       "      <td>2.0</td>\n",
       "      <td>0</td>\n",
       "      <td>3</td>\n",
       "      <td>1</td>\n",
       "      <td>1</td>\n",
       "      <td>2</td>\n",
       "      <td>0</td>\n",
       "      <td>3</td>\n",
       "    </tr>\n",
       "    <tr>\n",
       "      <th>4</th>\n",
       "      <td>0</td>\n",
       "      <td>3</td>\n",
       "      <td>1</td>\n",
       "      <td>2.0</td>\n",
       "      <td>0</td>\n",
       "      <td>1</td>\n",
       "      <td>0</td>\n",
       "      <td>1</td>\n",
       "      <td>1</td>\n",
       "      <td>1</td>\n",
       "      <td>1</td>\n",
       "    </tr>\n",
       "  </tbody>\n",
       "</table>\n",
       "</div>"
      ],
      "text/plain": [
       "   Survived  Pclass  Sex  Age  Parch  Fare  Cabin  Embarked  FamilySize  \\\n",
       "0         0       3    1  1.0      0     0      0         1           2   \n",
       "1         1       1    0  2.0      0     3      1         2           2   \n",
       "2         1       3    0  1.0      0     1      0         1           1   \n",
       "3         1       1    0  2.0      0     3      1         1           2   \n",
       "4         0       3    1  2.0      0     1      0         1           1   \n",
       "\n",
       "   Alone  Title  \n",
       "0      0      1  \n",
       "1      0      3  \n",
       "2      1      2  \n",
       "3      0      3  \n",
       "4      1      1  "
      ]
     },
     "execution_count": 330,
     "metadata": {},
     "output_type": "execute_result"
    }
   ],
   "source": [
    "train_data.head()"
   ]
  },
  {
   "cell_type": "code",
   "execution_count": 331,
   "metadata": {},
   "outputs": [
    {
     "name": "stdout",
     "output_type": "stream",
     "text": [
      "<class 'pandas.core.frame.DataFrame'>\n",
      "RangeIndex: 891 entries, 0 to 890\n",
      "Data columns (total 11 columns):\n",
      "Survived      891 non-null int64\n",
      "Pclass        891 non-null int64\n",
      "Sex           891 non-null int64\n",
      "Age           891 non-null float64\n",
      "Parch         891 non-null int64\n",
      "Fare          891 non-null int64\n",
      "Cabin         891 non-null int64\n",
      "Embarked      891 non-null int64\n",
      "FamilySize    891 non-null int64\n",
      "Alone         891 non-null int64\n",
      "Title         891 non-null int64\n",
      "dtypes: float64(1), int64(10)\n",
      "memory usage: 76.6 KB\n"
     ]
    }
   ],
   "source": [
    "train_data.info()"
   ]
  },
  {
   "cell_type": "code",
   "execution_count": 332,
   "metadata": {
    "collapsed": true
   },
   "outputs": [],
   "source": [
    "#train_data = train_data[train_data.Pclass == 3]"
   ]
  },
  {
   "cell_type": "code",
   "execution_count": 333,
   "metadata": {
    "collapsed": true
   },
   "outputs": [],
   "source": [
    "t = train_data.iloc[:,0]\n",
    "x = train_data.iloc[:,1:]"
   ]
  },
  {
   "cell_type": "code",
   "execution_count": 334,
   "metadata": {
    "collapsed": true
   },
   "outputs": [],
   "source": [
    "x = x.values"
   ]
  },
  {
   "cell_type": "code",
   "execution_count": 335,
   "metadata": {
    "collapsed": true
   },
   "outputs": [],
   "source": [
    "x = x.astype(\"f\")\n",
    "t = t.astype(\"i\")"
   ]
  },
  {
   "cell_type": "code",
   "execution_count": 336,
   "metadata": {
    "collapsed": true
   },
   "outputs": [],
   "source": [
    "dataset = list(zip(x, t))"
   ]
  },
  {
   "cell_type": "code",
   "execution_count": 337,
   "metadata": {},
   "outputs": [],
   "source": [
    "import chainer\n",
    "import chainer.functions as F\n",
    "import chainer.links as L\n",
    "import chainer\n",
    "import cupy\n",
    "\n",
    "from chainer import training\n",
    "from chainer.training import extensions\n",
    "from chainer.optimizer import WeightDecay"
   ]
  },
  {
   "cell_type": "code",
   "execution_count": 338,
   "metadata": {
    "collapsed": true
   },
   "outputs": [],
   "source": [
    "n_train = int(len(dataset)*0.7)"
   ]
  },
  {
   "cell_type": "code",
   "execution_count": 339,
   "metadata": {
    "collapsed": true
   },
   "outputs": [],
   "source": [
    "train, test = chainer.datasets.split_dataset_random(dataset, n_train, seed=1)"
   ]
  },
  {
   "cell_type": "code",
   "execution_count": 408,
   "metadata": {
    "collapsed": true
   },
   "outputs": [],
   "source": [
    "class NN(chainer.Chain):\n",
    "    def __init__(self, n_mid_units1=32, n_out=2):\n",
    "        super().__init__()\n",
    "        with self.init_scope():\n",
    "            self.fc1 = L.Linear(None, n_mid_units1)\n",
    "            self.fc2 = L.Linear(None, 32)\n",
    "            self.fc3 = L.Linear(None, n_out)\n",
    "            \n",
    "            #self.bn = L.BatchNormalization(10)\n",
    "    \n",
    "            self.dropout_ratio = 0.25\n",
    "            self.train = False\n",
    "    def __call__(self, x):\n",
    "        #h = self.bn(x)\n",
    "        h = self.fc1(x)\n",
    "        h = F.relu(h)\n",
    "        h = F.dropout(h, self.dropout_ratio)\n",
    "        h = self.fc2(h)\n",
    "        h = F.sigmoid(h)\n",
    "        h = self.fc3(h)\n",
    "        return h"
   ]
  },
  {
   "cell_type": "code",
   "execution_count": 409,
   "metadata": {},
   "outputs": [],
   "source": [
    "np.random.seed(1)\n",
    "nn = NN()\n",
    "model = L.Classifier(nn)\n",
    "optimizer = chainer.optimizers.Adam()\n",
    "#optimizer = chainer.optimizers.MomentumSGD(lr=0.001)\n",
    "optimizer.setup(model)\n",
    "#optimizer.add_hook(WeightDecay(0.0))\n",
    "batch_size = 10"
   ]
  },
  {
   "cell_type": "code",
   "execution_count": 410,
   "metadata": {
    "collapsed": true
   },
   "outputs": [],
   "source": [
    "train_iter = chainer.iterators.SerialIterator(train, batch_size)\n",
    "test_iter = chainer.iterators.SerialIterator(test, batch_size, repeat=False, shuffle=False)"
   ]
  },
  {
   "cell_type": "code",
   "execution_count": 411,
   "metadata": {
    "collapsed": true
   },
   "outputs": [],
   "source": [
    "updater = training.StandardUpdater(train_iter, optimizer, device=-1)"
   ]
  },
  {
   "cell_type": "code",
   "execution_count": 412,
   "metadata": {
    "collapsed": true
   },
   "outputs": [],
   "source": [
    "epoch = 200"
   ]
  },
  {
   "cell_type": "code",
   "execution_count": 413,
   "metadata": {
    "collapsed": true
   },
   "outputs": [],
   "source": [
    "trainer = training.Trainer(updater, (epoch, \"epoch\"), out=\"result/titanic\")\n",
    "\n",
    "trainer.extend(extensions.Evaluator(test_iter, model, device=-1))\n",
    "trainer.extend(extensions.LogReport(trigger=(1, \"epoch\")))\n",
    "trainer.extend(extensions.PrintReport([\"epoch\", \"main/accuracy\", \"validation/main/accuracy\", \"main/loss\", \"validation/main/loss\"]))"
   ]
  },
  {
   "cell_type": "code",
   "execution_count": 414,
   "metadata": {},
   "outputs": [
    {
     "name": "stdout",
     "output_type": "stream",
     "text": [
      "epoch       main/accuracy  validation/main/accuracy  main/loss   validation/main/loss\n",
      "\u001b[J1           0.547619       0.717593                  0.730783    0.600065              \n",
      "\u001b[J2           0.682258       0.758333                  0.609452    0.536159              \n",
      "\u001b[J3           0.75           0.780556                  0.548429    0.49849               \n",
      "\u001b[J4           0.749206       0.764815                  0.518033    0.489791              \n",
      "\u001b[J5           0.782258       0.787963                  0.487025    0.458765              \n",
      "\u001b[J6           0.753226       0.806481                  0.492373    0.450233              \n",
      "\u001b[J7           0.773016       0.806481                  0.48288     0.443621              \n",
      "\u001b[J8           0.777419       0.79537                   0.48184     0.44332               \n",
      "\u001b[J9           0.795161       0.799074                  0.460104    0.43423               \n",
      "\u001b[J10          0.791935       0.816667                  0.465981    0.431077              \n",
      "\u001b[J11          0.795238       0.812037                  0.470127    0.428393              \n",
      "\u001b[J12          0.785484       0.812037                  0.47239     0.428664              \n",
      "\u001b[J13          0.795161       0.82037                   0.46313     0.4196                \n",
      "\u001b[J14          0.787302       0.800926                  0.465931    0.423403              \n",
      "\u001b[J15          0.790323       0.819444                  0.465251    0.417297              \n",
      "\u001b[J16          0.8            0.808333                  0.468558    0.417003              \n",
      "\u001b[J17          0.795238       0.815741                  0.452008    0.413956              \n",
      "\u001b[J18          0.803226       0.819444                  0.446364    0.410392              \n",
      "\u001b[J19          0.808065       0.823148                  0.444922    0.409323              \n",
      "\u001b[J20          0.808065       0.826852                  0.443845    0.409648              \n",
      "\u001b[J21          0.812698       0.826852                  0.440696    0.412854              \n",
      "\u001b[J22          0.808065       0.826852                  0.437727    0.408305              \n",
      "\u001b[J23          0.824194       0.831481                  0.435069    0.404948              \n",
      "\u001b[J24          0.812698       0.819444                  0.436775    0.40308               \n",
      "\u001b[J25          0.817742       0.823148                  0.437801    0.410372              \n",
      "\u001b[J26          0.829032       0.815741                  0.433433    0.414829              \n",
      "\u001b[J27          0.809524       0.830556                  0.449862    0.403774              \n",
      "\u001b[J28          0.819355       0.823148                  0.428789    0.400146              \n",
      "\u001b[J29          0.824194       0.823148                  0.43662     0.399352              \n",
      "\u001b[J30          0.803226       0.826852                  0.441824    0.407394              \n",
      "\u001b[J31          0.814286       0.826852                  0.445108    0.401332              \n",
      "\u001b[J32          0.816129       0.815741                  0.429809    0.398837              \n",
      "\u001b[J33          0.816129       0.830556                  0.433483    0.405646              \n",
      "\u001b[J34          0.811111       0.835185                  0.431938    0.414461              \n",
      "\u001b[J35          0.819355       0.823148                  0.436443    0.398089              \n",
      "\u001b[J36          0.827419       0.823148                  0.427407    0.39571               \n",
      "\u001b[J37          0.806349       0.823148                  0.440926    0.39482               \n",
      "\u001b[J38          0.814516       0.823148                  0.430227    0.398199              \n",
      "\u001b[J39          0.824194       0.834259                  0.430252    0.397787              \n",
      "\u001b[J40          0.819355       0.834259                  0.424884    0.402416              \n",
      "\u001b[J41          0.814286       0.823148                  0.425045    0.398934              \n",
      "\u001b[J42          0.819355       0.826852                  0.431506    0.394381              \n",
      "\u001b[J43          0.817742       0.826852                  0.432227    0.395993              \n",
      "\u001b[J44          0.826984       0.830556                  0.422212    0.397218              \n",
      "\u001b[J45          0.824194       0.826852                  0.426642    0.391826              \n",
      "\u001b[J46          0.817742       0.819444                  0.431224    0.393748              \n",
      "\u001b[J47          0.828571       0.830556                  0.41395     0.397611              \n",
      "\u001b[J48          0.809677       0.826852                  0.433366    0.393594              \n",
      "\u001b[J49          0.827419       0.826852                  0.411435    0.393156              \n",
      "\u001b[J50          0.832258       0.826852                  0.411675    0.396685              \n",
      "\u001b[J51          0.830159       0.823148                  0.401594    0.393372              \n",
      "\u001b[J52          0.827419       0.830556                  0.412696    0.391742              \n",
      "\u001b[J53          0.820968       0.826852                  0.421418    0.39228               \n",
      "\u001b[J54          0.811111       0.826852                  0.421049    0.394868              \n",
      "\u001b[J55          0.832258       0.823148                  0.408337    0.392682              \n",
      "\u001b[J56          0.820968       0.819444                  0.426586    0.393919              \n",
      "\u001b[J57          0.828571       0.823148                  0.415135    0.396137              \n",
      "\u001b[J58          0.819355       0.823148                  0.422468    0.391153              \n",
      "\u001b[J59          0.830645       0.830556                  0.402738    0.39599               \n",
      "\u001b[J60          0.816129       0.826852                  0.419656    0.396008              \n",
      "\u001b[J61          0.830159       0.819444                  0.417444    0.392423              \n",
      "\u001b[J62          0.812903       0.823148                  0.410791    0.391703              \n",
      "\u001b[J63          0.824194       0.834259                  0.424688    0.40032               \n",
      "\u001b[J64          0.815873       0.835185                  0.421123    0.402196              \n",
      "\u001b[J65          0.832258       0.826852                  0.403864    0.391785              \n",
      "\u001b[J66          0.830645       0.830556                  0.411259    0.395181              \n",
      "\u001b[J67          0.822222       0.819444                  0.408743    0.393695              \n",
      "\u001b[J68          0.837097       0.834259                  0.403754    0.394388              \n",
      "\u001b[J69          0.822581       0.823148                  0.40602     0.395107              \n",
      "\u001b[J70          0.822581       0.823148                  0.417247    0.392061              \n",
      "\u001b[J71          0.836508       0.830556                  0.41103     0.396699              \n",
      "\u001b[J72          0.83871        0.823148                  0.394582    0.393608              \n",
      "\u001b[J73          0.827419       0.834259                  0.40924     0.397972              \n",
      "\u001b[J74          0.836508       0.819444                  0.409377    0.395976              \n",
      "\u001b[J75          0.835484       0.819444                  0.405025    0.394408              \n",
      "\u001b[J76          0.816129       0.823148                  0.420315    0.395215              \n",
      "\u001b[J77          0.833333       0.830556                  0.401323    0.397683              \n",
      "\u001b[J78          0.832258       0.826852                  0.408009    0.400113              \n",
      "\u001b[J79          0.819355       0.834259                  0.411239    0.402801              \n",
      "\u001b[J80          0.83871        0.819444                  0.402742    0.392723              \n",
      "\u001b[J81          0.826984       0.819444                  0.404182    0.394664              \n",
      "\u001b[J82          0.832258       0.823148                  0.39589     0.398107              \n",
      "\u001b[J83          0.824194       0.834259                  0.401322    0.398782              \n",
      "\u001b[J84          0.82381        0.826852                  0.403842    0.398587              \n",
      "\u001b[J85          0.833871       0.830556                  0.398597    0.398741              \n",
      "\u001b[J86          0.830645       0.823148                  0.405302    0.395431              \n",
      "\u001b[J87          0.828571       0.826852                  0.393624    0.397012              \n",
      "\u001b[J88          0.817742       0.826852                  0.399543    0.396146              \n",
      "\u001b[J89          0.835484       0.826852                  0.397849    0.396704              \n",
      "\u001b[J90          0.827419       0.830556                  0.398435    0.400317              \n"
     ]
    },
    {
     "name": "stdout",
     "output_type": "stream",
     "text": [
      "\u001b[J91          0.826984       0.834259                  0.392878    0.405146              \n",
      "\u001b[J92          0.824194       0.834259                  0.399891    0.404363              \n",
      "\u001b[J93          0.841935       0.826852                  0.382319    0.396708              \n",
      "\u001b[J94          0.822222       0.830556                  0.391839    0.397222              \n",
      "\u001b[J95          0.819355       0.834259                  0.401496    0.403897              \n",
      "\u001b[J96          0.841935       0.819444                  0.391471    0.401256              \n",
      "\u001b[J97          0.830159       0.842593                  0.391522    0.412985              \n",
      "\u001b[J98          0.837097       0.826852                  0.401217    0.402429              \n",
      "\u001b[J99          0.816129       0.826852                  0.39206     0.402427              \n",
      "\u001b[J100         0.853226       0.838889                  0.390345    0.408274              \n",
      "\u001b[J101         0.833333       0.819444                  0.388974    0.403007              \n",
      "\u001b[J102         0.833871       0.830556                  0.382022    0.403322              \n",
      "\u001b[J103         0.835484       0.826852                  0.395817    0.403014              \n",
      "\u001b[J104         0.839683       0.835185                  0.382462    0.407692              \n",
      "\u001b[J105         0.843548       0.830556                  0.386595    0.408235              \n",
      "\u001b[J106         0.841935       0.830556                  0.391292    0.409287              \n",
      "\u001b[J107         0.834921       0.834259                  0.390623    0.403111              \n",
      "\u001b[J108         0.843548       0.826852                  0.382494    0.405481              \n",
      "\u001b[J109         0.830645       0.826852                  0.401892    0.405496              \n",
      "\u001b[J110         0.833871       0.826852                  0.385636    0.405529              \n",
      "\u001b[J111         0.839683       0.835185                  0.38221     0.40665               \n",
      "\u001b[J112         0.833871       0.830556                  0.400236    0.40628               \n",
      "\u001b[J113         0.843548       0.823148                  0.386191    0.402431              \n",
      "\u001b[J114         0.826984       0.823148                  0.389457    0.40604               \n",
      "\u001b[J115         0.846774       0.835185                  0.375735    0.407508              \n",
      "\u001b[J116         0.829032       0.826852                  0.392112    0.408095              \n",
      "\u001b[J117         0.820635       0.823148                  0.391275    0.407878              \n",
      "\u001b[J118         0.833871       0.826852                  0.382779    0.407406              \n",
      "\u001b[J119         0.829032       0.826852                  0.403572    0.40588               \n",
      "\u001b[J120         0.829032       0.835185                  0.391844    0.410054              \n",
      "\u001b[J121         0.838095       0.830556                  0.374831    0.408369              \n",
      "\u001b[J122         0.841935       0.826852                  0.382312    0.407969              \n",
      "\u001b[J123         0.83871        0.826852                  0.376292    0.407873              \n",
      "\u001b[J124         0.836508       0.842593                  0.38815     0.41083               \n",
      "\u001b[J125         0.83871        0.826852                  0.385112    0.405205              \n",
      "\u001b[J126         0.840323       0.830556                  0.380559    0.410371              \n",
      "\u001b[J127         0.839683       0.830556                  0.37923     0.409904              \n",
      "\u001b[J128         0.830645       0.826852                  0.393373    0.405908              \n",
      "\u001b[J129         0.840323       0.834259                  0.380362    0.405818              \n",
      "\u001b[J130         0.841935       0.830556                  0.375987    0.408105              \n",
      "\u001b[J131         0.846032       0.830556                  0.378692    0.409501              \n",
      "\u001b[J132         0.832258       0.826852                  0.375739    0.411276              \n",
      "\u001b[J133         0.835484       0.826852                  0.385553    0.413621              \n",
      "\u001b[J134         0.838095       0.826852                  0.379238    0.409012              \n",
      "\u001b[J135         0.824194       0.835185                  0.381167    0.41615               \n",
      "\u001b[J136         0.846774       0.823148                  0.366524    0.409468              \n",
      "\u001b[J137         0.838095       0.830556                  0.389201    0.412548              \n",
      "\u001b[J138         0.833871       0.831481                  0.379287    0.416147              \n",
      "\u001b[J139         0.825806       0.830556                  0.392224    0.410872              \n",
      "\u001b[J140         0.83871        0.830556                  0.37132     0.410156              \n",
      "\u001b[J141         0.852381       0.826852                  0.360227    0.412591              \n",
      "\u001b[J142         0.853226       0.831481                  0.36943     0.415477              \n",
      "\u001b[J143         0.83871        0.826852                  0.369206    0.41444               \n",
      "\u001b[J144         0.842857       0.830556                  0.396183    0.412908              \n",
      "\u001b[J145         0.853226       0.826852                  0.388271    0.413444              \n",
      "\u001b[J146         0.825806       0.830556                  0.391689    0.410092              \n",
      "\u001b[J147         0.834921       0.827778                  0.380783    0.414291              \n",
      "\u001b[J148         0.835484       0.826852                  0.373822    0.41596               \n",
      "\u001b[J149         0.843548       0.835185                  0.368989    0.413856              \n",
      "\u001b[J150         0.833871       0.827778                  0.363247    0.418721              \n",
      "\u001b[J151         0.849206       0.830556                  0.365572    0.416632              \n",
      "\u001b[J152         0.841935       0.838889                  0.370609    0.422911              \n",
      "\u001b[J153         0.837097       0.838889                  0.38245     0.415643              \n",
      "\u001b[J154         0.826984       0.834259                  0.382921    0.415904              \n",
      "\u001b[J155         0.832258       0.827778                  0.375264    0.413725              \n",
      "\u001b[J156         0.827419       0.827778                  0.37551     0.412766              \n",
      "\u001b[J157         0.839683       0.834259                  0.375944    0.418488              \n",
      "\u001b[J158         0.851613       0.835185                  0.36609     0.420129              \n",
      "\u001b[J159         0.824194       0.835185                  0.395227    0.415539              \n",
      "\u001b[J160         0.833871       0.831481                  0.371964    0.413277              \n",
      "\u001b[J161         0.847619       0.834259                  0.364645    0.415638              \n",
      "\u001b[J162         0.841935       0.838889                  0.394314    0.421199              \n",
      "\u001b[J163         0.845161       0.830556                  0.364495    0.416245              \n",
      "\u001b[J164         0.838095       0.830556                  0.377453    0.41707               \n",
      "\u001b[J165         0.843548       0.830556                  0.366523    0.418063              \n",
      "\u001b[J166         0.845161       0.838889                  0.374171    0.418316              \n",
      "\u001b[J167         0.850794       0.838889                  0.364467    0.423003              \n",
      "\u001b[J168         0.846774       0.826852                  0.359801    0.420375              \n",
      "\u001b[J169         0.835484       0.830556                  0.38113     0.42272               \n",
      "\u001b[J170         0.86129        0.824074                  0.372674    0.423696              \n",
      "\u001b[J171         0.842857       0.835185                  0.370424    0.4247                \n",
      "\u001b[J172         0.835484       0.830556                  0.371499    0.421601              \n",
      "\u001b[J173         0.825806       0.831481                  0.370596    0.41934               \n",
      "\u001b[J174         0.842857       0.838889                  0.365142    0.422879              \n",
      "\u001b[J175         0.846774       0.835185                  0.366228    0.423324              \n",
      "\u001b[J176         0.83871        0.838889                  0.372501    0.424434              \n",
      "\u001b[J177         0.839683       0.831481                  0.372912    0.42083               \n",
      "\u001b[J178         0.840323       0.838889                  0.365443    0.425786              \n",
      "\u001b[J179         0.843548       0.830556                  0.365963    0.42108               \n",
      "\u001b[J180         0.85           0.830556                  0.35793     0.423184              \n",
      "\u001b[J181         0.836508       0.835185                  0.37435     0.417438              \n"
     ]
    },
    {
     "name": "stdout",
     "output_type": "stream",
     "text": [
      "\u001b[J182         0.832258       0.838889                  0.375056    0.421251              \n",
      "\u001b[J183         0.853226       0.838889                  0.371291    0.419762              \n",
      "\u001b[J184         0.836508       0.842593                  0.374736    0.419183              \n",
      "\u001b[J185         0.853226       0.842593                  0.373181    0.424433              \n",
      "\u001b[J186         0.837097       0.834259                  0.366753    0.423176              \n",
      "\u001b[J187         0.842857       0.842593                  0.369572    0.421456              \n",
      "\u001b[J188         0.845161       0.830556                  0.369797    0.417801              \n",
      "\u001b[J189         0.845161       0.835185                  0.362438    0.420768              \n",
      "\u001b[J190         0.830645       0.838889                  0.373129    0.422183              \n",
      "\u001b[J191         0.847619       0.838889                  0.368559    0.428648              \n",
      "\u001b[J192         0.85           0.838889                  0.367873    0.423927              \n",
      "\u001b[J193         0.840323       0.838889                  0.361967    0.418432              \n",
      "\u001b[J194         0.838095       0.846296                  0.362664    0.421872              \n",
      "\u001b[J195         0.846774       0.838889                  0.362255    0.423074              \n",
      "\u001b[J196         0.853226       0.838889                  0.354915    0.42772               \n",
      "\u001b[J197         0.838095       0.831481                  0.355664    0.430456              \n",
      "\u001b[J198         0.85           0.838889                  0.36699     0.428393              \n",
      "\u001b[J199         0.835484       0.842593                  0.364264    0.424049              \n",
      "\u001b[J200         0.83871        0.838889                  0.364129    0.425743              \n"
     ]
    }
   ],
   "source": [
    "trainer.run()"
   ]
  },
  {
   "cell_type": "code",
   "execution_count": 415,
   "metadata": {
    "collapsed": true
   },
   "outputs": [],
   "source": [
    "import json"
   ]
  },
  {
   "cell_type": "code",
   "execution_count": 416,
   "metadata": {
    "collapsed": true
   },
   "outputs": [],
   "source": [
    "with open(\"result/titanic/log\") as f:\n",
    "    logs = json.load(f)"
   ]
  },
  {
   "cell_type": "code",
   "execution_count": 417,
   "metadata": {
    "collapsed": true
   },
   "outputs": [],
   "source": [
    "results = pd.DataFrame(logs)"
   ]
  },
  {
   "cell_type": "code",
   "execution_count": 418,
   "metadata": {},
   "outputs": [
    {
     "data": {
      "text/plain": [
       "<matplotlib.axes._subplots.AxesSubplot at 0x7fec60197978>"
      ]
     },
     "execution_count": 418,
     "metadata": {},
     "output_type": "execute_result"
    },
    {
     "data": {
      "image/png": "[encoded data removed]",
      "text/plain": [
       "<matplotlib.figure.Figure at 0x7fec605697f0>"
      ]
     },
     "metadata": {},
     "output_type": "display_data"
    }
   ],
   "source": [
    "%matplotlib inline\n",
    "results[[\"main/accuracy\", \"validation/main/accuracy\"]].plot()"
   ]
  },
  {
   "cell_type": "code",
   "execution_count": 419,
   "metadata": {
    "collapsed": true
   },
   "outputs": [],
   "source": [
    "chainer.serializers.save_npz(\"models/titanic_10.npz\", model)"
   ]
  },
  {
   "cell_type": "code",
   "execution_count": 105,
   "metadata": {
    "collapsed": true
   },
   "outputs": [],
   "source": [
    "model_pclass_1 = L.Classifier(NN())\n",
    "chainer.serializers.load_npz(\"models/titanic_pclass_1.npz\", model_pclass_1)"
   ]
  },
  {
   "cell_type": "code",
   "execution_count": 106,
   "metadata": {
    "collapsed": true
   },
   "outputs": [],
   "source": [
    "model_pclass_2 = L.Classifier(NN())\n",
    "chainer.serializers.load_npz(\"models/titanic_pclass_2.npz\", model_pclass_2)"
   ]
  },
  {
   "cell_type": "code",
   "execution_count": 107,
   "metadata": {
    "collapsed": true
   },
   "outputs": [],
   "source": [
    "model_pclass_3 = L.Classifier(NN())\n",
    "chainer.serializers.load_npz(\"models/titanic_pclass_3.npz\", model_pclass_3)"
   ]
  },
  {
   "cell_type": "code",
   "execution_count": 423,
   "metadata": {},
   "outputs": [
    {
     "name": "stdout",
     "output_type": "stream",
     "text": [
      "<class 'pandas.core.frame.DataFrame'>\n",
      "RangeIndex: 418 entries, 0 to 417\n",
      "Data columns (total 11 columns):\n",
      "PassengerId    418 non-null int64\n",
      "Pclass         418 non-null int64\n",
      "Name           418 non-null object\n",
      "Sex            418 non-null object\n",
      "Age            332 non-null float64\n",
      "SibSp          418 non-null int64\n",
      "Parch          418 non-null int64\n",
      "Ticket         418 non-null object\n",
      "Fare           417 non-null float64\n",
      "Cabin          91 non-null object\n",
      "Embarked       418 non-null object\n",
      "dtypes: float64(2), int64(4), object(5)\n",
      "memory usage: 36.0+ KB\n"
     ]
    }
   ],
   "source": [
    "titanic_df = pd.read_csv('test.csv')\n",
    "titanic_df.info()"
   ]
  },
  {
   "cell_type": "code",
   "execution_count": 424,
   "metadata": {},
   "outputs": [
    {
     "name": "stderr",
     "output_type": "stream",
     "text": [
      "/usr/local/pyenv/versions/anaconda3-4.4.0/lib/python3.6/site-packages/pandas/core/indexing.py:179: SettingWithCopyWarning: \n",
      "A value is trying to be set on a copy of a slice from a DataFrame\n",
      "\n",
      "See the caveats in the documentation: http://pandas.pydata.org/pandas-docs/stable/indexing.html#indexing-view-versus-copy\n",
      "  self._setitem_with_indexer(indexer, value)\n"
     ]
    }
   ],
   "source": [
    "titanic_df = pre_process(titanic_df)"
   ]
  },
  {
   "cell_type": "code",
   "execution_count": 426,
   "metadata": {},
   "outputs": [],
   "source": [
    "test_data = titanic_df.drop(['PassengerId','Name','SibSp', 'Ticket'], 1)"
   ]
  },
  {
   "cell_type": "code",
   "execution_count": 427,
   "metadata": {},
   "outputs": [
    {
     "name": "stdout",
     "output_type": "stream",
     "text": [
      "<class 'pandas.core.frame.DataFrame'>\n",
      "RangeIndex: 418 entries, 0 to 417\n",
      "Data columns (total 10 columns):\n",
      "Pclass        418 non-null int64\n",
      "Sex           418 non-null int64\n",
      "Age           418 non-null float64\n",
      "Parch         418 non-null int64\n",
      "Fare          418 non-null int64\n",
      "Cabin         418 non-null int64\n",
      "Embarked      418 non-null int64\n",
      "FamilySize    418 non-null int64\n",
      "Alone         418 non-null int64\n",
      "Title         418 non-null int64\n",
      "dtypes: float64(1), int64(9)\n",
      "memory usage: 32.7 KB\n"
     ]
    }
   ],
   "source": [
    "test_data.info()"
   ]
  },
  {
   "cell_type": "code",
   "execution_count": 428,
   "metadata": {
    "collapsed": true
   },
   "outputs": [],
   "source": [
    "x = test_data.values"
   ]
  },
  {
   "cell_type": "code",
   "execution_count": 429,
   "metadata": {
    "collapsed": true
   },
   "outputs": [],
   "source": [
    "x = x.astype(\"f\")"
   ]
  },
  {
   "cell_type": "code",
   "execution_count": 430,
   "metadata": {
    "collapsed": true
   },
   "outputs": [],
   "source": [
    "survived = []"
   ]
  },
  {
   "cell_type": "code",
   "execution_count": 431,
   "metadata": {},
   "outputs": [
    {
     "data": {
      "text/html": [
       "<div>\n",
       "<style>\n",
       "    .dataframe thead tr:only-child th {\n",
       "        text-align: right;\n",
       "    }\n",
       "\n",
       "    .dataframe thead th {\n",
       "        text-align: left;\n",
       "    }\n",
       "\n",
       "    .dataframe tbody tr th {\n",
       "        vertical-align: top;\n",
       "    }\n",
       "</style>\n",
       "<table border=\"1\" class=\"dataframe\">\n",
       "  <thead>\n",
       "    <tr style=\"text-align: right;\">\n",
       "      <th></th>\n",
       "      <th>Pclass</th>\n",
       "      <th>Sex</th>\n",
       "      <th>Age</th>\n",
       "      <th>Parch</th>\n",
       "      <th>Fare</th>\n",
       "      <th>Cabin</th>\n",
       "      <th>Embarked</th>\n",
       "      <th>FamilySize</th>\n",
       "      <th>Alone</th>\n",
       "      <th>Title</th>\n",
       "    </tr>\n",
       "  </thead>\n",
       "  <tbody>\n",
       "    <tr>\n",
       "      <th>0</th>\n",
       "      <td>3</td>\n",
       "      <td>1</td>\n",
       "      <td>2.0</td>\n",
       "      <td>0</td>\n",
       "      <td>0</td>\n",
       "      <td>0</td>\n",
       "      <td>3</td>\n",
       "      <td>1</td>\n",
       "      <td>1</td>\n",
       "      <td>1</td>\n",
       "    </tr>\n",
       "    <tr>\n",
       "      <th>1</th>\n",
       "      <td>3</td>\n",
       "      <td>0</td>\n",
       "      <td>2.0</td>\n",
       "      <td>0</td>\n",
       "      <td>0</td>\n",
       "      <td>0</td>\n",
       "      <td>1</td>\n",
       "      <td>2</td>\n",
       "      <td>0</td>\n",
       "      <td>3</td>\n",
       "    </tr>\n",
       "    <tr>\n",
       "      <th>2</th>\n",
       "      <td>2</td>\n",
       "      <td>1</td>\n",
       "      <td>3.0</td>\n",
       "      <td>0</td>\n",
       "      <td>1</td>\n",
       "      <td>0</td>\n",
       "      <td>3</td>\n",
       "      <td>1</td>\n",
       "      <td>1</td>\n",
       "      <td>1</td>\n",
       "    </tr>\n",
       "    <tr>\n",
       "      <th>3</th>\n",
       "      <td>3</td>\n",
       "      <td>1</td>\n",
       "      <td>1.0</td>\n",
       "      <td>0</td>\n",
       "      <td>1</td>\n",
       "      <td>0</td>\n",
       "      <td>1</td>\n",
       "      <td>1</td>\n",
       "      <td>1</td>\n",
       "      <td>1</td>\n",
       "    </tr>\n",
       "    <tr>\n",
       "      <th>4</th>\n",
       "      <td>3</td>\n",
       "      <td>0</td>\n",
       "      <td>1.0</td>\n",
       "      <td>1</td>\n",
       "      <td>1</td>\n",
       "      <td>0</td>\n",
       "      <td>1</td>\n",
       "      <td>3</td>\n",
       "      <td>0</td>\n",
       "      <td>3</td>\n",
       "    </tr>\n",
       "  </tbody>\n",
       "</table>\n",
       "</div>"
      ],
      "text/plain": [
       "   Pclass  Sex  Age  Parch  Fare  Cabin  Embarked  FamilySize  Alone  Title\n",
       "0       3    1  2.0      0     0      0         3           1      1      1\n",
       "1       3    0  2.0      0     0      0         1           2      0      3\n",
       "2       2    1  3.0      0     1      0         3           1      1      1\n",
       "3       3    1  1.0      0     1      0         1           1      1      1\n",
       "4       3    0  1.0      1     1      0         1           3      0      3"
      ]
     },
     "execution_count": 431,
     "metadata": {},
     "output_type": "execute_result"
    }
   ],
   "source": [
    "test_data.head()"
   ]
  },
  {
   "cell_type": "code",
   "execution_count": 432,
   "metadata": {
    "collapsed": true
   },
   "outputs": [],
   "source": [
    "with chainer.using_config('train', False), chainer.using_config('enable_backprop', False):\n",
    "    for i, x_ in enumerate(x):\n",
    "        x_new = x_\n",
    "        x_new = x_new[np.newaxis]\n",
    "        \n",
    "        '''\n",
    "        if test_data['Pclass'].iloc[i] == 1:\n",
    "            y = model_pclass_1.predictor(x_new)\n",
    "        elif test_data['Pclass'].iloc[i] == 2:\n",
    "            y = model_pclass_2.predictor(x_new)\n",
    "        else:\n",
    "            y = model_pclass_3.predictor(x_new)\n",
    "        '''\n",
    "        y = model.predictor(x_new)\n",
    "        y = F.softmax(y)\n",
    "        survived.append(np.argmax(y.array))"
   ]
  },
  {
   "cell_type": "code",
   "execution_count": 433,
   "metadata": {},
   "outputs": [
    {
     "data": {
      "text/plain": [
       "418"
      ]
     },
     "execution_count": 433,
     "metadata": {},
     "output_type": "execute_result"
    }
   ],
   "source": [
    "len(survived)"
   ]
  },
  {
   "cell_type": "code",
   "execution_count": 434,
   "metadata": {
    "collapsed": true
   },
   "outputs": [],
   "source": [
    "titanic_df['Survived'] = np.array(survived)"
   ]
  },
  {
   "cell_type": "code",
   "execution_count": 435,
   "metadata": {
    "collapsed": true
   },
   "outputs": [],
   "source": [
    "predict_df = titanic_df.drop(['Name','Title' ,'Sex','SibSp','Parch','FamilySize' ,'Fare', 'Ticket', 'Cabin', 'Embarked', 'Pclass', 'Age', 'Alone'], 1)"
   ]
  },
  {
   "cell_type": "code",
   "execution_count": 436,
   "metadata": {},
   "outputs": [
    {
     "data": {
      "text/html": [
       "<div>\n",
       "<style>\n",
       "    .dataframe thead tr:only-child th {\n",
       "        text-align: right;\n",
       "    }\n",
       "\n",
       "    .dataframe thead th {\n",
       "        text-align: left;\n",
       "    }\n",
       "\n",
       "    .dataframe tbody tr th {\n",
       "        vertical-align: top;\n",
       "    }\n",
       "</style>\n",
       "<table border=\"1\" class=\"dataframe\">\n",
       "  <thead>\n",
       "    <tr style=\"text-align: right;\">\n",
       "      <th></th>\n",
       "      <th>PassengerId</th>\n",
       "      <th>Survived</th>\n",
       "    </tr>\n",
       "  </thead>\n",
       "  <tbody>\n",
       "    <tr>\n",
       "      <th>0</th>\n",
       "      <td>892</td>\n",
       "      <td>0</td>\n",
       "    </tr>\n",
       "    <tr>\n",
       "      <th>1</th>\n",
       "      <td>893</td>\n",
       "      <td>1</td>\n",
       "    </tr>\n",
       "    <tr>\n",
       "      <th>2</th>\n",
       "      <td>894</td>\n",
       "      <td>0</td>\n",
       "    </tr>\n",
       "    <tr>\n",
       "      <th>3</th>\n",
       "      <td>895</td>\n",
       "      <td>0</td>\n",
       "    </tr>\n",
       "    <tr>\n",
       "      <th>4</th>\n",
       "      <td>896</td>\n",
       "      <td>1</td>\n",
       "    </tr>\n",
       "  </tbody>\n",
       "</table>\n",
       "</div>"
      ],
      "text/plain": [
       "   PassengerId  Survived\n",
       "0          892         0\n",
       "1          893         1\n",
       "2          894         0\n",
       "3          895         0\n",
       "4          896         1"
      ]
     },
     "execution_count": 436,
     "metadata": {},
     "output_type": "execute_result"
    }
   ],
   "source": [
    "predict_df.head()"
   ]
  },
  {
   "cell_type": "code",
   "execution_count": 437,
   "metadata": {
    "collapsed": true
   },
   "outputs": [],
   "source": [
    "predict_df.to_csv('predict_20181203_5.csv')"
   ]
  },
  {
   "cell_type": "code",
   "execution_count": null,
   "metadata": {
    "collapsed": true
   },
   "outputs": [],
   "source": []
  }
 ],
 "metadata": {
  "kernelspec": {
   "display_name": "Python 3",
   "language": "python",
   "name": "python3"
  },
  "language_info": {
   "codemirror_mode": {
    "name": "ipython",
    "version": 3
   },
   "file_extension": ".py",
   "mimetype": "text/x-python",
   "name": "python",
   "nbconvert_exporter": "python",
   "pygments_lexer": "ipython3",
   "version": "3.6.1"
  }
 },
 "nbformat": 4,
 "nbformat_minor": 2
}
