{
 "cells": [
  {
   "cell_type": "code",
   "execution_count": 1,
   "metadata": {
    "collapsed": true
   },
   "outputs": [],
   "source": [
    "import pandas as pd\n",
    "from pandas import Series,DataFrame\n",
    "\n",
    "import numpy as np\n",
    "import matplotlib as mpl\n",
    "import matplotlib.pyplot as plt\n",
    "import seaborn as sns"
   ]
  },
  {
   "cell_type": "code",
   "execution_count": 2,
   "metadata": {
    "collapsed": true
   },
   "outputs": [],
   "source": [
    "titanic_df = pd.read_csv('train.csv')"
   ]
  },
  {
   "cell_type": "code",
   "execution_count": 3,
   "metadata": {
    "collapsed": true
   },
   "outputs": [],
   "source": [
    "def male_female_child(passenger):\n",
    "    # 年齢と性別のデータを取得します。\n",
    "    age,sex = passenger\n",
    "    # 年齢を調べて16歳未満なら、子供。それ以外は性別をそのまま返します。\n",
    "    if age < 16:\n",
    "        return 3\n",
    "    else:\n",
    "        if sex == 'male':\n",
    "            return 1\n",
    "        else:\n",
    "            return 2\n",
    "    \n",
    "# personという新しい列を追加します。\n",
    "titanic_df['Person'] = titanic_df[['Age','Sex']].apply(male_female_child,axis=1)"
   ]
  },
  {
   "cell_type": "code",
   "execution_count": 4,
   "metadata": {
    "collapsed": true
   },
   "outputs": [],
   "source": [
    "titanic_df['Alone'] = titanic_df.Parch + titanic_df.SibSp"
   ]
  },
  {
   "cell_type": "code",
   "execution_count": 5,
   "metadata": {},
   "outputs": [
    {
     "name": "stderr",
     "output_type": "stream",
     "text": [
      "/usr/local/pyenv/versions/anaconda3-4.4.0/lib/python3.6/site-packages/pandas/core/indexing.py:179: SettingWithCopyWarning: \n",
      "A value is trying to be set on a copy of a slice from a DataFrame\n",
      "\n",
      "See the caveats in the documentation: http://pandas.pydata.org/pandas-docs/stable/indexing.html#indexing-view-versus-copy\n",
      "  self._setitem_with_indexer(indexer, value)\n"
     ]
    }
   ],
   "source": [
    "titanic_df['Alone'].loc[titanic_df['Alone'] >0] = 1\n",
    "titanic_df['Alone'].loc[titanic_df['Alone'] == 0] = 0"
   ]
  },
  {
   "cell_type": "code",
   "execution_count": 6,
   "metadata": {
    "collapsed": true
   },
   "outputs": [],
   "source": [
    "train_data = titanic_df.drop(['PassengerId','Name','Sex','SibSp','Parch','Fare', 'Ticket', 'Cabin', 'Embarked'], 1)"
   ]
  },
  {
   "cell_type": "code",
   "execution_count": 7,
   "metadata": {
    "collapsed": true
   },
   "outputs": [],
   "source": [
    "train_data = train_data.dropna()"
   ]
  },
  {
   "cell_type": "code",
   "execution_count": 8,
   "metadata": {},
   "outputs": [
    {
     "name": "stdout",
     "output_type": "stream",
     "text": [
      "<class 'pandas.core.frame.DataFrame'>\n",
      "Int64Index: 714 entries, 0 to 890\n",
      "Data columns (total 5 columns):\n",
      "Survived    714 non-null int64\n",
      "Pclass      714 non-null int64\n",
      "Age         714 non-null float64\n",
      "Person      714 non-null int64\n",
      "Alone       714 non-null int64\n",
      "dtypes: float64(1), int64(4)\n",
      "memory usage: 33.5 KB\n"
     ]
    }
   ],
   "source": [
    "train_data.info()"
   ]
  },
  {
   "cell_type": "code",
   "execution_count": 9,
   "metadata": {
    "collapsed": true
   },
   "outputs": [],
   "source": [
    "t = train_data.iloc[:,0]\n",
    "x = train_data.iloc[:,1:]"
   ]
  },
  {
   "cell_type": "code",
   "execution_count": 10,
   "metadata": {
    "collapsed": true
   },
   "outputs": [],
   "source": [
    "x = x.values"
   ]
  },
  {
   "cell_type": "code",
   "execution_count": 11,
   "metadata": {
    "collapsed": true
   },
   "outputs": [],
   "source": [
    "x = x.astype(\"f\")\n",
    "t = t.astype(\"i\")"
   ]
  },
  {
   "cell_type": "code",
   "execution_count": 12,
   "metadata": {
    "collapsed": true
   },
   "outputs": [],
   "source": [
    "dataset = list(zip(x, t))"
   ]
  },
  {
   "cell_type": "code",
   "execution_count": 13,
   "metadata": {},
   "outputs": [
    {
     "name": "stderr",
     "output_type": "stream",
     "text": [
      "/usr/local/pyenv/versions/anaconda3-4.4.0/lib/python3.6/site-packages/h5py/__init__.py:34: FutureWarning: Conversion of the second argument of issubdtype from `float` to `np.floating` is deprecated. In future, it will be treated as `np.float64 == np.dtype(float).type`.\n",
      "  from ._conv import register_converters as _register_converters\n"
     ]
    }
   ],
   "source": [
    "import chainer\n",
    "import chainer.functions as F\n",
    "import chainer.links as L\n",
    "import chainer\n",
    "import cupy\n",
    "\n",
    "from chainer import training\n",
    "from chainer.training import extensions"
   ]
  },
  {
   "cell_type": "code",
   "execution_count": 14,
   "metadata": {
    "collapsed": true
   },
   "outputs": [],
   "source": [
    "n_train = int(len(dataset)*0.7)"
   ]
  },
  {
   "cell_type": "code",
   "execution_count": 15,
   "metadata": {
    "collapsed": true
   },
   "outputs": [],
   "source": [
    "train, test = chainer.datasets.split_dataset_random(dataset, n_train, seed=1)"
   ]
  },
  {
   "cell_type": "code",
   "execution_count": 47,
   "metadata": {
    "collapsed": true
   },
   "outputs": [],
   "source": [
    "class NN(chainer.Chain):\n",
    "    def __init__(self, n_mid_units1=3, n_out=2):\n",
    "        super().__init__()\n",
    "        with self.init_scope():\n",
    "            self.fc1 = L.Linear(None, n_mid_units1)\n",
    "            self.fc2 = L.Linear(None, n_out)\n",
    "            \n",
    "            self.bn = L.BatchNormalization(4)\n",
    "    \n",
    "    def __call__(self, x):\n",
    "        h = self.bn(x)\n",
    "        h = self.fc1(h)\n",
    "        h = F.relu(h)\n",
    "        h = self.fc2(h)\n",
    "        return h"
   ]
  },
  {
   "cell_type": "code",
   "execution_count": 48,
   "metadata": {
    "collapsed": true
   },
   "outputs": [],
   "source": [
    "np.random.seed(1)\n",
    "nn = NN()\n",
    "model = L.Classifier(nn)\n",
    "optimizer = chainer.optimizers.Adam()\n",
    "optimizer.setup(model)\n",
    "batch_size = 20"
   ]
  },
  {
   "cell_type": "code",
   "execution_count": 49,
   "metadata": {
    "collapsed": true
   },
   "outputs": [],
   "source": [
    "train_iter = chainer.iterators.SerialIterator(train, batch_size)\n",
    "test_iter = chainer.iterators.SerialIterator(test, batch_size, repeat=False, shuffle=False)"
   ]
  },
  {
   "cell_type": "code",
   "execution_count": 50,
   "metadata": {
    "collapsed": true
   },
   "outputs": [],
   "source": [
    "updater = training.StandardUpdater(train_iter, optimizer, device=0)"
   ]
  },
  {
   "cell_type": "code",
   "execution_count": 51,
   "metadata": {
    "collapsed": true
   },
   "outputs": [],
   "source": [
    "epoch = 100"
   ]
  },
  {
   "cell_type": "code",
   "execution_count": 52,
   "metadata": {
    "collapsed": true
   },
   "outputs": [],
   "source": [
    "trainer = training.Trainer(updater, (epoch, \"epoch\"), out=\"result/titanic\")\n",
    "\n",
    "trainer.extend(extensions.Evaluator(test_iter, model, device=0))\n",
    "trainer.extend(extensions.LogReport(trigger=(1, \"epoch\")))\n",
    "trainer.extend(extensions.PrintReport([\"epoch\", \"main/accuracy\", \"validation/main/accuracy\", \"main/loss\", \"validation/main/loss\"]))"
   ]
  },
  {
   "cell_type": "code",
   "execution_count": 53,
   "metadata": {},
   "outputs": [
    {
     "name": "stdout",
     "output_type": "stream",
     "text": [
      "epoch       main/accuracy  validation/main/accuracy  main/loss   validation/main/loss\n",
      "\u001b[J1           0.416          0.434848                  0.868425    0.836271              \n",
      "\u001b[J2           0.43           0.412121                  0.821492    0.8191                \n",
      "\u001b[J3           0.452          0.456061                  0.783691    0.782928              \n",
      "\u001b[J4           0.48           0.469697                  0.76521     0.755808              \n",
      "\u001b[J5           0.506          0.469697                  0.736462    0.733053              \n",
      "\u001b[J6           0.518          0.528788                  0.712116    0.717381              \n",
      "\u001b[J7           0.54           0.557576                  0.70763     0.704784              \n",
      "\u001b[J8           0.56           0.60303                   0.694201    0.685546              \n",
      "\u001b[J9           0.574          0.607576                  0.683885    0.676046              \n",
      "\u001b[J10          0.59           0.607576                  0.668602    0.66505               \n",
      "\u001b[J11          0.596          0.613636                  0.666499    0.655944              \n",
      "\u001b[J12          0.608          0.613636                  0.65201     0.648973              \n",
      "\u001b[J13          0.614          0.618182                  0.656427    0.642142              \n",
      "\u001b[J14          0.6            0.609091                  0.644391    0.633693              \n",
      "\u001b[J15          0.61           0.609091                  0.633165    0.627145              \n",
      "\u001b[J16          0.614          0.609091                  0.630147    0.617773              \n",
      "\u001b[J17          0.624          0.609091                  0.624624    0.611405              \n",
      "\u001b[J18          0.62           0.609091                  0.615018    0.603563              \n",
      "\u001b[J19          0.63           0.618182                  0.599435    0.5955                \n",
      "\u001b[J20          0.664583       0.633333                  0.601334    0.588044              \n",
      "\u001b[J21          0.704          0.748485                  0.592147    0.573653              \n",
      "\u001b[J22          0.73           0.725758                  0.573724    0.565087              \n",
      "\u001b[J23          0.742          0.762121                  0.570269    0.551432              \n",
      "\u001b[J24          0.744          0.762121                  0.562045    0.540115              \n",
      "\u001b[J25          0.766          0.780303                  0.552535    0.528909              \n",
      "\u001b[J26          0.772          0.766667                  0.533806    0.518372              \n",
      "\u001b[J27          0.766          0.784848                  0.53152     0.506876              \n",
      "\u001b[J28          0.78           0.780303                  0.519183    0.497664              \n",
      "\u001b[J29          0.782          0.771212                  0.502373    0.487691              \n",
      "\u001b[J30          0.776          0.780303                  0.504936    0.487891              \n",
      "\u001b[J31          0.778          0.780303                  0.493162    0.47505               \n",
      "\u001b[J32          0.776          0.784848                  0.48809     0.472686              \n",
      "\u001b[J33          0.778          0.784848                  0.493587    0.466887              \n",
      "\u001b[J34          0.784          0.775758                  0.489373    0.464256              \n",
      "\u001b[J35          0.79           0.780303                  0.463646    0.463476              \n",
      "\u001b[J36          0.78           0.784848                  0.466243    0.460961              \n",
      "\u001b[J37          0.786          0.780303                  0.469661    0.457432              \n",
      "\u001b[J38          0.774          0.780303                  0.481634    0.458277              \n",
      "\u001b[J39          0.792          0.762121                  0.456201    0.452899              \n",
      "\u001b[J40          0.8            0.766667                  0.464355    0.452456              \n",
      "\u001b[J41          0.794          0.762121                  0.451026    0.454089              \n",
      "\u001b[J42          0.79           0.771212                  0.461766    0.449397              \n",
      "\u001b[J43          0.792          0.762121                  0.447698    0.451406              \n",
      "\u001b[J44          0.79           0.757576                  0.453708    0.451932              \n",
      "\u001b[J45          0.782          0.757576                  0.459715    0.452041              \n",
      "\u001b[J46          0.776          0.771212                  0.457072    0.447092              \n",
      "\u001b[J47          0.776          0.771212                  0.445736    0.447495              \n",
      "\u001b[J48          0.798          0.766667                  0.447141    0.444359              \n",
      "\u001b[J49          0.8            0.766667                  0.459552    0.450168              \n",
      "\u001b[J50          0.77           0.766667                  0.468629    0.445585              \n",
      "\u001b[J51          0.81           0.762121                  0.439465    0.447043              \n",
      "\u001b[J52          0.792          0.780303                  0.456872    0.44254               \n",
      "\u001b[J53          0.782          0.780303                  0.45392     0.440913              \n",
      "\u001b[J54          0.772          0.775758                  0.450171    0.44586               \n",
      "\u001b[J55          0.794          0.780303                  0.441468    0.436746              \n",
      "\u001b[J56          0.786          0.775758                  0.44287     0.444634              \n",
      "\u001b[J57          0.768          0.780303                  0.468155    0.437959              \n",
      "\u001b[J58          0.78           0.780303                  0.444059    0.438346              \n",
      "\u001b[J59          0.798          0.784848                  0.440754    0.439173              \n",
      "\u001b[J60          0.791667       0.780303                  0.435338    0.440372              \n",
      "\u001b[J61          0.766          0.780303                  0.457824    0.440072              \n",
      "\u001b[J62          0.786          0.780303                  0.448158    0.436453              \n",
      "\u001b[J63          0.782          0.775758                  0.44115     0.44194               \n",
      "\u001b[J64          0.812          0.780303                  0.440813    0.439201              \n",
      "\u001b[J65          0.8            0.771212                  0.436841    0.440553              \n",
      "\u001b[J66          0.808          0.8                       0.434988    0.433485              \n",
      "\u001b[J67          0.8            0.795455                  0.443303    0.433989              \n",
      "\u001b[J68          0.804          0.795455                  0.453605    0.432299              \n",
      "\u001b[J69          0.794          0.766667                  0.443384    0.442365              \n",
      "\u001b[J70          0.81           0.780303                  0.429012    0.440489              \n",
      "\u001b[J71          0.818          0.784848                  0.427595    0.435378              \n",
      "\u001b[J72          0.794          0.780303                  0.449087    0.434942              \n",
      "\u001b[J73          0.8            0.784848                  0.434405    0.434385              \n",
      "\u001b[J74          0.802          0.80303                   0.440074    0.431605              \n",
      "\u001b[J75          0.8            0.793939                  0.455046    0.431071              \n",
      "\u001b[J76          0.786          0.784848                  0.441891    0.436161              \n",
      "\u001b[J77          0.788          0.766667                  0.456171    0.440277              \n",
      "\u001b[J78          0.788          0.775758                  0.441443    0.432455              \n",
      "\u001b[J79          0.808          0.784848                  0.431738    0.431186              \n",
      "\u001b[J80          0.775          0.798485                  0.468139    0.430489              \n",
      "\u001b[J81          0.784          0.780303                  0.456413    0.434695              \n",
      "\u001b[J82          0.784          0.784848                  0.441729    0.434117              \n",
      "\u001b[J83          0.798          0.80303                   0.441603    0.432862              \n",
      "\u001b[J84          0.774          0.790909                  0.441769    0.434295              \n",
      "\u001b[J85          0.79           0.780303                  0.431365    0.436101              \n",
      "\u001b[J86          0.806          0.80303                   0.438671    0.430705              \n",
      "\u001b[J87          0.79           0.8                       0.429759    0.430923              \n",
      "\u001b[J88          0.796          0.80303                   0.445655    0.428826              \n",
      "\u001b[J89          0.804          0.80303                   0.440128    0.428974              \n",
      "\u001b[J90          0.798          0.801515                  0.442773    0.430401              \n"
     ]
    },
    {
     "name": "stdout",
     "output_type": "stream",
     "text": [
      "\u001b[J91          0.802          0.784848                  0.416609    0.435202              \n",
      "\u001b[J92          0.8            0.780303                  0.430831    0.435568              \n",
      "\u001b[J93          0.81           0.757576                  0.437976    0.442375              \n",
      "\u001b[J94          0.794          0.80303                   0.448092    0.428904              \n",
      "\u001b[J95          0.794          0.784848                  0.420013    0.43037               \n",
      "\u001b[J96          0.792          0.807576                  0.441509    0.428584              \n",
      "\u001b[J97          0.816          0.784848                  0.413497    0.432372              \n",
      "\u001b[J98          0.824          0.780303                  0.429978    0.434712              \n",
      "\u001b[J99          0.814          0.807576                  0.435934    0.429436              \n",
      "\u001b[J100         0.802083       0.795455                  0.424688    0.429562              \n"
     ]
    }
   ],
   "source": [
    "trainer.run()"
   ]
  },
  {
   "cell_type": "code",
   "execution_count": 54,
   "metadata": {
    "collapsed": true
   },
   "outputs": [],
   "source": [
    "import json"
   ]
  },
  {
   "cell_type": "code",
   "execution_count": 55,
   "metadata": {},
   "outputs": [],
   "source": [
    "with open(\"result/titanic/log\") as f:\n",
    "    logs = json.load(f)"
   ]
  },
  {
   "cell_type": "code",
   "execution_count": 56,
   "metadata": {
    "collapsed": true
   },
   "outputs": [],
   "source": [
    "results = pd.DataFrame(logs)"
   ]
  },
  {
   "cell_type": "code",
   "execution_count": 57,
   "metadata": {},
   "outputs": [
    {
     "data": {
      "text/plain": [
       "<matplotlib.axes._subplots.AxesSubplot at 0x7f3e90193ef0>"
      ]
     },
     "execution_count": 57,
     "metadata": {},
     "output_type": "execute_result"
    },
    {
     "data": {
      "image/png": "[encoded data removed]",
      "text/plain": [
       "<matplotlib.figure.Figure at 0x7f3e90120f60>"
      ]
     },
     "metadata": {},
     "output_type": "display_data"
    }
   ],
   "source": [
    "%matplotlib inline\n",
    "results[[\"main/accuracy\", \"validation/main/accuracy\"]].plot()"
   ]
  },
  {
   "cell_type": "code",
   "execution_count": null,
   "metadata": {
    "collapsed": true
   },
   "outputs": [],
   "source": []
  }
 ],
 "metadata": {
  "kernelspec": {
   "display_name": "Python 3",
   "language": "python",
   "name": "python3"
  },
  "language_info": {
   "codemirror_mode": {
    "name": "ipython",
    "version": 3
   },
   "file_extension": ".py",
   "mimetype": "text/x-python",
   "name": "python",
   "nbconvert_exporter": "python",
   "pygments_lexer": "ipython3",
   "version": "3.6.1"
  }
 },
 "nbformat": 4,
 "nbformat_minor": 2
}
