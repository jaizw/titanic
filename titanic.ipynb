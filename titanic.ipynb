{
 "cells": [
  {
   "cell_type": "code",
   "execution_count": 2,
   "metadata": {
    "collapsed": true
   },
   "outputs": [],
   "source": [
    "import pandas as pd\n",
    "from pandas import Series,DataFrame\n",
    "\n",
    "import numpy as np\n",
    "import matplotlib as mpl\n",
    "import matplotlib.pyplot as plt\n",
    "import seaborn as sns"
   ]
  },
  {
   "cell_type": "code",
   "execution_count": 67,
   "metadata": {
    "collapsed": true
   },
   "outputs": [],
   "source": [
    "titanic_df = pd.read_csv('train.csv')"
   ]
  },
  {
   "cell_type": "code",
   "execution_count": 68,
   "metadata": {
    "collapsed": true
   },
   "outputs": [],
   "source": [
    "def male_female_child(passenger):\n",
    "    # 年齢と性別のデータを取得します。\n",
    "    age,sex = passenger\n",
    "    # 年齢を調べて16歳未満なら、子供。それ以外は性別をそのまま返します。\n",
    "    if age < 16:\n",
    "        return 3\n",
    "    else:\n",
    "        if sex == 'male':\n",
    "            return 1\n",
    "        else:\n",
    "            return 2\n",
    "    \n"
   ]
  },
  {
   "cell_type": "code",
   "execution_count": 99,
   "metadata": {},
   "outputs": [],
   "source": [
    "def pre_process(titanic_df):\n",
    "    # personという新しい列を追加します。\n",
    "    #titanic_df['Person'] = titanic_df[['Age','Sex']].apply(male_female_child,axis=1)\n",
    "    titanic_df['Sex'] = titanic_df['Sex'].map( {'female': 0, 'male': 1} ).astype(int)\n",
    "    \n",
    "    titanic_df['FamilySize'] = titanic_df.Parch + titanic_df.SibSp + 1\n",
    "    \n",
    "    titanic_df['Alone'] = 0\n",
    "    titanic_df['Alone'].loc[titanic_df['FamilySize'] == 1] = 1\n",
    "    titanic_df['Alone'].loc[titanic_df['FamilySize'] > 1 ] = 0\n",
    "    \n",
    "    titanic_df = titanic_df.fillna({'Embarked' : 'S'}) \n",
    "    titanic_df['Embarked'] = titanic_df['Embarked'].map( {'S': 1, 'C': 2, 'Q' : 3} )\n",
    "    \n",
    "    titanic_df['Title'] = titanic_df.Name.str.extract(' ([A-Za-z]+)\\.', expand=False)\n",
    "    titanic_df['Title'] = titanic_df['Title'].replace(['Lady', 'Countess','Capt', 'Col','Don', 'Dr', 'Major', 'Rev', 'Sir', 'Jonkheer', 'Dona'], 'Rare')\n",
    "    titanic_df['Title'] = titanic_df['Title'].replace('Mlle', 'Miss')\n",
    "    titanic_df['Title'] = titanic_df['Title'].replace('Ms', 'Miss')\n",
    "    titanic_df['Title'] = titanic_df['Title'].replace('Mme', 'Mrs')\n",
    "    titanic_df['Title'] = titanic_df['Title'].map( {\"Mr\": 1, \"Miss\": 2, \"Mrs\": 3, \"Master\": 4, \"Rare\": 5})\n",
    "\n",
    "    titanic_df = titanic_df.fillna({'Fare' : titanic_df.Fare.mean()}) \n",
    "    titanic_df.loc[ titanic_df['Fare'] <= 7.91, 'Fare'] = 0\n",
    "    titanic_df.loc[(titanic_df['Fare'] > 7.91) & (titanic_df['Fare'] <= 14.454), 'Fare'] = 1\n",
    "    titanic_df.loc[(titanic_df['Fare'] > 14.454) & (titanic_df['Fare'] <= 31), 'Fare'] = 2\n",
    "    titanic_df.loc[ titanic_df['Fare'] > 31, 'Fare'] = 3\n",
    "    titanic_df['Fare'] = titanic_df['Fare'].astype(int)\n",
    "    \n",
    "    # Mapping Age\n",
    "    titanic_df = titanic_df.fillna({'Age' : titanic_df.Age.mean()}) \n",
    "    titanic_df.loc[ titanic_df['Age'] <= 16, 'Age'] = 0\n",
    "    titanic_df.loc[(titanic_df['Age'] > 16) & (titanic_df['Age'] <= 32), 'Age'] = 1\n",
    "    titanic_df.loc[(titanic_df['Age'] > 32) & (titanic_df['Age'] <= 48), 'Age'] = 2\n",
    "    titanic_df.loc[(titanic_df['Age'] > 48) & (titanic_df['Age'] <= 64), 'Age'] = 3\n",
    "    titanic_df.loc[ titanic_df['Age'] > 64, 'Age'] = 4\n",
    "\n",
    "    return titanic_df"
   ]
  },
  {
   "cell_type": "code",
   "execution_count": 70,
   "metadata": {},
   "outputs": [
    {
     "name": "stderr",
     "output_type": "stream",
     "text": [
      "/usr/local/pyenv/versions/anaconda3-4.4.0/lib/python3.6/site-packages/pandas/core/indexing.py:179: SettingWithCopyWarning: \n",
      "A value is trying to be set on a copy of a slice from a DataFrame\n",
      "\n",
      "See the caveats in the documentation: http://pandas.pydata.org/pandas-docs/stable/indexing.html#indexing-view-versus-copy\n",
      "  self._setitem_with_indexer(indexer, value)\n"
     ]
    }
   ],
   "source": [
    "titanic_df = pre_process(titanic_df)"
   ]
  },
  {
   "cell_type": "code",
   "execution_count": 59,
   "metadata": {},
   "outputs": [],
   "source": [
    "#from collections import Counter\n",
    "#Counter(titanic_df.Embarked)"
   ]
  },
  {
   "cell_type": "code",
   "execution_count": 71,
   "metadata": {},
   "outputs": [
    {
     "data": {
      "text/html": [
       "<div>\n",
       "<style>\n",
       "    .dataframe thead tr:only-child th {\n",
       "        text-align: right;\n",
       "    }\n",
       "\n",
       "    .dataframe thead th {\n",
       "        text-align: left;\n",
       "    }\n",
       "\n",
       "    .dataframe tbody tr th {\n",
       "        vertical-align: top;\n",
       "    }\n",
       "</style>\n",
       "<table border=\"1\" class=\"dataframe\">\n",
       "  <thead>\n",
       "    <tr style=\"text-align: right;\">\n",
       "      <th></th>\n",
       "      <th>PassengerId</th>\n",
       "      <th>Survived</th>\n",
       "      <th>Pclass</th>\n",
       "      <th>Sex</th>\n",
       "      <th>Age</th>\n",
       "      <th>SibSp</th>\n",
       "      <th>Parch</th>\n",
       "      <th>Fare</th>\n",
       "      <th>Embarked</th>\n",
       "      <th>FamilySize</th>\n",
       "      <th>Alone</th>\n",
       "      <th>Title</th>\n",
       "    </tr>\n",
       "  </thead>\n",
       "  <tbody>\n",
       "    <tr>\n",
       "      <th>count</th>\n",
       "      <td>891.000000</td>\n",
       "      <td>891.000000</td>\n",
       "      <td>891.000000</td>\n",
       "      <td>891.000000</td>\n",
       "      <td>891.000000</td>\n",
       "      <td>891.000000</td>\n",
       "      <td>891.000000</td>\n",
       "      <td>891.000000</td>\n",
       "      <td>891.000000</td>\n",
       "      <td>891.000000</td>\n",
       "      <td>891.000000</td>\n",
       "      <td>891.000000</td>\n",
       "    </tr>\n",
       "    <tr>\n",
       "      <th>mean</th>\n",
       "      <td>446.000000</td>\n",
       "      <td>0.383838</td>\n",
       "      <td>2.308642</td>\n",
       "      <td>0.647587</td>\n",
       "      <td>1.290685</td>\n",
       "      <td>0.523008</td>\n",
       "      <td>0.381594</td>\n",
       "      <td>1.505051</td>\n",
       "      <td>1.361392</td>\n",
       "      <td>1.904602</td>\n",
       "      <td>0.602694</td>\n",
       "      <td>1.728395</td>\n",
       "    </tr>\n",
       "    <tr>\n",
       "      <th>std</th>\n",
       "      <td>257.353842</td>\n",
       "      <td>0.486592</td>\n",
       "      <td>0.836071</td>\n",
       "      <td>0.477990</td>\n",
       "      <td>0.812620</td>\n",
       "      <td>1.102743</td>\n",
       "      <td>0.806057</td>\n",
       "      <td>1.118148</td>\n",
       "      <td>0.635673</td>\n",
       "      <td>1.613459</td>\n",
       "      <td>0.489615</td>\n",
       "      <td>1.030039</td>\n",
       "    </tr>\n",
       "    <tr>\n",
       "      <th>min</th>\n",
       "      <td>1.000000</td>\n",
       "      <td>0.000000</td>\n",
       "      <td>1.000000</td>\n",
       "      <td>0.000000</td>\n",
       "      <td>0.000000</td>\n",
       "      <td>0.000000</td>\n",
       "      <td>0.000000</td>\n",
       "      <td>0.000000</td>\n",
       "      <td>1.000000</td>\n",
       "      <td>1.000000</td>\n",
       "      <td>0.000000</td>\n",
       "      <td>1.000000</td>\n",
       "    </tr>\n",
       "    <tr>\n",
       "      <th>25%</th>\n",
       "      <td>223.500000</td>\n",
       "      <td>0.000000</td>\n",
       "      <td>2.000000</td>\n",
       "      <td>0.000000</td>\n",
       "      <td>1.000000</td>\n",
       "      <td>0.000000</td>\n",
       "      <td>0.000000</td>\n",
       "      <td>0.500000</td>\n",
       "      <td>1.000000</td>\n",
       "      <td>1.000000</td>\n",
       "      <td>0.000000</td>\n",
       "      <td>1.000000</td>\n",
       "    </tr>\n",
       "    <tr>\n",
       "      <th>50%</th>\n",
       "      <td>446.000000</td>\n",
       "      <td>0.000000</td>\n",
       "      <td>3.000000</td>\n",
       "      <td>1.000000</td>\n",
       "      <td>1.000000</td>\n",
       "      <td>0.000000</td>\n",
       "      <td>0.000000</td>\n",
       "      <td>2.000000</td>\n",
       "      <td>1.000000</td>\n",
       "      <td>1.000000</td>\n",
       "      <td>1.000000</td>\n",
       "      <td>1.000000</td>\n",
       "    </tr>\n",
       "    <tr>\n",
       "      <th>75%</th>\n",
       "      <td>668.500000</td>\n",
       "      <td>1.000000</td>\n",
       "      <td>3.000000</td>\n",
       "      <td>1.000000</td>\n",
       "      <td>2.000000</td>\n",
       "      <td>1.000000</td>\n",
       "      <td>0.000000</td>\n",
       "      <td>2.000000</td>\n",
       "      <td>2.000000</td>\n",
       "      <td>2.000000</td>\n",
       "      <td>1.000000</td>\n",
       "      <td>2.000000</td>\n",
       "    </tr>\n",
       "    <tr>\n",
       "      <th>max</th>\n",
       "      <td>891.000000</td>\n",
       "      <td>1.000000</td>\n",
       "      <td>3.000000</td>\n",
       "      <td>1.000000</td>\n",
       "      <td>4.000000</td>\n",
       "      <td>8.000000</td>\n",
       "      <td>6.000000</td>\n",
       "      <td>3.000000</td>\n",
       "      <td>3.000000</td>\n",
       "      <td>11.000000</td>\n",
       "      <td>1.000000</td>\n",
       "      <td>5.000000</td>\n",
       "    </tr>\n",
       "  </tbody>\n",
       "</table>\n",
       "</div>"
      ],
      "text/plain": [
       "       PassengerId    Survived      Pclass         Sex         Age  \\\n",
       "count   891.000000  891.000000  891.000000  891.000000  891.000000   \n",
       "mean    446.000000    0.383838    2.308642    0.647587    1.290685   \n",
       "std     257.353842    0.486592    0.836071    0.477990    0.812620   \n",
       "min       1.000000    0.000000    1.000000    0.000000    0.000000   \n",
       "25%     223.500000    0.000000    2.000000    0.000000    1.000000   \n",
       "50%     446.000000    0.000000    3.000000    1.000000    1.000000   \n",
       "75%     668.500000    1.000000    3.000000    1.000000    2.000000   \n",
       "max     891.000000    1.000000    3.000000    1.000000    4.000000   \n",
       "\n",
       "            SibSp       Parch        Fare    Embarked  FamilySize       Alone  \\\n",
       "count  891.000000  891.000000  891.000000  891.000000  891.000000  891.000000   \n",
       "mean     0.523008    0.381594    1.505051    1.361392    1.904602    0.602694   \n",
       "std      1.102743    0.806057    1.118148    0.635673    1.613459    0.489615   \n",
       "min      0.000000    0.000000    0.000000    1.000000    1.000000    0.000000   \n",
       "25%      0.000000    0.000000    0.500000    1.000000    1.000000    0.000000   \n",
       "50%      0.000000    0.000000    2.000000    1.000000    1.000000    1.000000   \n",
       "75%      1.000000    0.000000    2.000000    2.000000    2.000000    1.000000   \n",
       "max      8.000000    6.000000    3.000000    3.000000   11.000000    1.000000   \n",
       "\n",
       "            Title  \n",
       "count  891.000000  \n",
       "mean     1.728395  \n",
       "std      1.030039  \n",
       "min      1.000000  \n",
       "25%      1.000000  \n",
       "50%      1.000000  \n",
       "75%      2.000000  \n",
       "max      5.000000  "
      ]
     },
     "execution_count": 71,
     "metadata": {},
     "output_type": "execute_result"
    }
   ],
   "source": [
    "titanic_df.describe()"
   ]
  },
  {
   "cell_type": "code",
   "execution_count": 72,
   "metadata": {},
   "outputs": [
    {
     "data": {
      "text/html": [
       "<div>\n",
       "<style>\n",
       "    .dataframe thead tr:only-child th {\n",
       "        text-align: right;\n",
       "    }\n",
       "\n",
       "    .dataframe thead th {\n",
       "        text-align: left;\n",
       "    }\n",
       "\n",
       "    .dataframe tbody tr th {\n",
       "        vertical-align: top;\n",
       "    }\n",
       "</style>\n",
       "<table border=\"1\" class=\"dataframe\">\n",
       "  <thead>\n",
       "    <tr style=\"text-align: right;\">\n",
       "      <th></th>\n",
       "      <th>PassengerId</th>\n",
       "      <th>Survived</th>\n",
       "      <th>Pclass</th>\n",
       "      <th>Name</th>\n",
       "      <th>Sex</th>\n",
       "      <th>Age</th>\n",
       "      <th>SibSp</th>\n",
       "      <th>Parch</th>\n",
       "      <th>Ticket</th>\n",
       "      <th>Fare</th>\n",
       "      <th>Cabin</th>\n",
       "      <th>Embarked</th>\n",
       "      <th>FamilySize</th>\n",
       "      <th>Alone</th>\n",
       "      <th>Title</th>\n",
       "    </tr>\n",
       "  </thead>\n",
       "  <tbody>\n",
       "    <tr>\n",
       "      <th>0</th>\n",
       "      <td>1</td>\n",
       "      <td>0</td>\n",
       "      <td>3</td>\n",
       "      <td>Braund, Mr. Owen Harris</td>\n",
       "      <td>1</td>\n",
       "      <td>1.0</td>\n",
       "      <td>1</td>\n",
       "      <td>0</td>\n",
       "      <td>A/5 21171</td>\n",
       "      <td>0</td>\n",
       "      <td>NaN</td>\n",
       "      <td>1</td>\n",
       "      <td>2</td>\n",
       "      <td>0</td>\n",
       "      <td>1</td>\n",
       "    </tr>\n",
       "    <tr>\n",
       "      <th>1</th>\n",
       "      <td>2</td>\n",
       "      <td>1</td>\n",
       "      <td>1</td>\n",
       "      <td>Cumings, Mrs. John Bradley (Florence Briggs Th...</td>\n",
       "      <td>0</td>\n",
       "      <td>2.0</td>\n",
       "      <td>1</td>\n",
       "      <td>0</td>\n",
       "      <td>PC 17599</td>\n",
       "      <td>3</td>\n",
       "      <td>C85</td>\n",
       "      <td>2</td>\n",
       "      <td>2</td>\n",
       "      <td>0</td>\n",
       "      <td>3</td>\n",
       "    </tr>\n",
       "    <tr>\n",
       "      <th>2</th>\n",
       "      <td>3</td>\n",
       "      <td>1</td>\n",
       "      <td>3</td>\n",
       "      <td>Heikkinen, Miss. Laina</td>\n",
       "      <td>0</td>\n",
       "      <td>1.0</td>\n",
       "      <td>0</td>\n",
       "      <td>0</td>\n",
       "      <td>STON/O2. 3101282</td>\n",
       "      <td>1</td>\n",
       "      <td>NaN</td>\n",
       "      <td>1</td>\n",
       "      <td>1</td>\n",
       "      <td>1</td>\n",
       "      <td>2</td>\n",
       "    </tr>\n",
       "    <tr>\n",
       "      <th>3</th>\n",
       "      <td>4</td>\n",
       "      <td>1</td>\n",
       "      <td>1</td>\n",
       "      <td>Futrelle, Mrs. Jacques Heath (Lily May Peel)</td>\n",
       "      <td>0</td>\n",
       "      <td>2.0</td>\n",
       "      <td>1</td>\n",
       "      <td>0</td>\n",
       "      <td>113803</td>\n",
       "      <td>3</td>\n",
       "      <td>C123</td>\n",
       "      <td>1</td>\n",
       "      <td>2</td>\n",
       "      <td>0</td>\n",
       "      <td>3</td>\n",
       "    </tr>\n",
       "    <tr>\n",
       "      <th>4</th>\n",
       "      <td>5</td>\n",
       "      <td>0</td>\n",
       "      <td>3</td>\n",
       "      <td>Allen, Mr. William Henry</td>\n",
       "      <td>1</td>\n",
       "      <td>2.0</td>\n",
       "      <td>0</td>\n",
       "      <td>0</td>\n",
       "      <td>373450</td>\n",
       "      <td>1</td>\n",
       "      <td>NaN</td>\n",
       "      <td>1</td>\n",
       "      <td>1</td>\n",
       "      <td>1</td>\n",
       "      <td>1</td>\n",
       "    </tr>\n",
       "  </tbody>\n",
       "</table>\n",
       "</div>"
      ],
      "text/plain": [
       "   PassengerId  Survived  Pclass  \\\n",
       "0            1         0       3   \n",
       "1            2         1       1   \n",
       "2            3         1       3   \n",
       "3            4         1       1   \n",
       "4            5         0       3   \n",
       "\n",
       "                                                Name  Sex  Age  SibSp  Parch  \\\n",
       "0                            Braund, Mr. Owen Harris    1  1.0      1      0   \n",
       "1  Cumings, Mrs. John Bradley (Florence Briggs Th...    0  2.0      1      0   \n",
       "2                             Heikkinen, Miss. Laina    0  1.0      0      0   \n",
       "3       Futrelle, Mrs. Jacques Heath (Lily May Peel)    0  2.0      1      0   \n",
       "4                           Allen, Mr. William Henry    1  2.0      0      0   \n",
       "\n",
       "             Ticket  Fare Cabin  Embarked  FamilySize  Alone  Title  \n",
       "0         A/5 21171     0   NaN         1           2      0      1  \n",
       "1          PC 17599     3   C85         2           2      0      3  \n",
       "2  STON/O2. 3101282     1   NaN         1           1      1      2  \n",
       "3            113803     3  C123         1           2      0      3  \n",
       "4            373450     1   NaN         1           1      1      1  "
      ]
     },
     "execution_count": 72,
     "metadata": {},
     "output_type": "execute_result"
    }
   ],
   "source": [
    "titanic_df.head()"
   ]
  },
  {
   "cell_type": "code",
   "execution_count": 73,
   "metadata": {
    "collapsed": true
   },
   "outputs": [],
   "source": [
    "train_data = titanic_df.drop(['PassengerId','Name','SibSp','Parch', 'Ticket', 'Cabin'], 1)"
   ]
  },
  {
   "cell_type": "code",
   "execution_count": 74,
   "metadata": {},
   "outputs": [
    {
     "data": {
      "text/html": [
       "<div>\n",
       "<style>\n",
       "    .dataframe thead tr:only-child th {\n",
       "        text-align: right;\n",
       "    }\n",
       "\n",
       "    .dataframe thead th {\n",
       "        text-align: left;\n",
       "    }\n",
       "\n",
       "    .dataframe tbody tr th {\n",
       "        vertical-align: top;\n",
       "    }\n",
       "</style>\n",
       "<table border=\"1\" class=\"dataframe\">\n",
       "  <thead>\n",
       "    <tr style=\"text-align: right;\">\n",
       "      <th></th>\n",
       "      <th>Survived</th>\n",
       "      <th>Pclass</th>\n",
       "      <th>Sex</th>\n",
       "      <th>Age</th>\n",
       "      <th>Fare</th>\n",
       "      <th>Embarked</th>\n",
       "      <th>FamilySize</th>\n",
       "      <th>Alone</th>\n",
       "      <th>Title</th>\n",
       "    </tr>\n",
       "  </thead>\n",
       "  <tbody>\n",
       "    <tr>\n",
       "      <th>count</th>\n",
       "      <td>891.000000</td>\n",
       "      <td>891.000000</td>\n",
       "      <td>891.000000</td>\n",
       "      <td>891.000000</td>\n",
       "      <td>891.000000</td>\n",
       "      <td>891.000000</td>\n",
       "      <td>891.000000</td>\n",
       "      <td>891.000000</td>\n",
       "      <td>891.000000</td>\n",
       "    </tr>\n",
       "    <tr>\n",
       "      <th>mean</th>\n",
       "      <td>0.383838</td>\n",
       "      <td>2.308642</td>\n",
       "      <td>0.647587</td>\n",
       "      <td>1.290685</td>\n",
       "      <td>1.505051</td>\n",
       "      <td>1.361392</td>\n",
       "      <td>1.904602</td>\n",
       "      <td>0.602694</td>\n",
       "      <td>1.728395</td>\n",
       "    </tr>\n",
       "    <tr>\n",
       "      <th>std</th>\n",
       "      <td>0.486592</td>\n",
       "      <td>0.836071</td>\n",
       "      <td>0.477990</td>\n",
       "      <td>0.812620</td>\n",
       "      <td>1.118148</td>\n",
       "      <td>0.635673</td>\n",
       "      <td>1.613459</td>\n",
       "      <td>0.489615</td>\n",
       "      <td>1.030039</td>\n",
       "    </tr>\n",
       "    <tr>\n",
       "      <th>min</th>\n",
       "      <td>0.000000</td>\n",
       "      <td>1.000000</td>\n",
       "      <td>0.000000</td>\n",
       "      <td>0.000000</td>\n",
       "      <td>0.000000</td>\n",
       "      <td>1.000000</td>\n",
       "      <td>1.000000</td>\n",
       "      <td>0.000000</td>\n",
       "      <td>1.000000</td>\n",
       "    </tr>\n",
       "    <tr>\n",
       "      <th>25%</th>\n",
       "      <td>0.000000</td>\n",
       "      <td>2.000000</td>\n",
       "      <td>0.000000</td>\n",
       "      <td>1.000000</td>\n",
       "      <td>0.500000</td>\n",
       "      <td>1.000000</td>\n",
       "      <td>1.000000</td>\n",
       "      <td>0.000000</td>\n",
       "      <td>1.000000</td>\n",
       "    </tr>\n",
       "    <tr>\n",
       "      <th>50%</th>\n",
       "      <td>0.000000</td>\n",
       "      <td>3.000000</td>\n",
       "      <td>1.000000</td>\n",
       "      <td>1.000000</td>\n",
       "      <td>2.000000</td>\n",
       "      <td>1.000000</td>\n",
       "      <td>1.000000</td>\n",
       "      <td>1.000000</td>\n",
       "      <td>1.000000</td>\n",
       "    </tr>\n",
       "    <tr>\n",
       "      <th>75%</th>\n",
       "      <td>1.000000</td>\n",
       "      <td>3.000000</td>\n",
       "      <td>1.000000</td>\n",
       "      <td>2.000000</td>\n",
       "      <td>2.000000</td>\n",
       "      <td>2.000000</td>\n",
       "      <td>2.000000</td>\n",
       "      <td>1.000000</td>\n",
       "      <td>2.000000</td>\n",
       "    </tr>\n",
       "    <tr>\n",
       "      <th>max</th>\n",
       "      <td>1.000000</td>\n",
       "      <td>3.000000</td>\n",
       "      <td>1.000000</td>\n",
       "      <td>4.000000</td>\n",
       "      <td>3.000000</td>\n",
       "      <td>3.000000</td>\n",
       "      <td>11.000000</td>\n",
       "      <td>1.000000</td>\n",
       "      <td>5.000000</td>\n",
       "    </tr>\n",
       "  </tbody>\n",
       "</table>\n",
       "</div>"
      ],
      "text/plain": [
       "         Survived      Pclass         Sex         Age        Fare    Embarked  \\\n",
       "count  891.000000  891.000000  891.000000  891.000000  891.000000  891.000000   \n",
       "mean     0.383838    2.308642    0.647587    1.290685    1.505051    1.361392   \n",
       "std      0.486592    0.836071    0.477990    0.812620    1.118148    0.635673   \n",
       "min      0.000000    1.000000    0.000000    0.000000    0.000000    1.000000   \n",
       "25%      0.000000    2.000000    0.000000    1.000000    0.500000    1.000000   \n",
       "50%      0.000000    3.000000    1.000000    1.000000    2.000000    1.000000   \n",
       "75%      1.000000    3.000000    1.000000    2.000000    2.000000    2.000000   \n",
       "max      1.000000    3.000000    1.000000    4.000000    3.000000    3.000000   \n",
       "\n",
       "       FamilySize       Alone       Title  \n",
       "count  891.000000  891.000000  891.000000  \n",
       "mean     1.904602    0.602694    1.728395  \n",
       "std      1.613459    0.489615    1.030039  \n",
       "min      1.000000    0.000000    1.000000  \n",
       "25%      1.000000    0.000000    1.000000  \n",
       "50%      1.000000    1.000000    1.000000  \n",
       "75%      2.000000    1.000000    2.000000  \n",
       "max     11.000000    1.000000    5.000000  "
      ]
     },
     "execution_count": 74,
     "metadata": {},
     "output_type": "execute_result"
    }
   ],
   "source": [
    "train_data.describe()"
   ]
  },
  {
   "cell_type": "code",
   "execution_count": 75,
   "metadata": {},
   "outputs": [
    {
     "data": {
      "text/html": [
       "<div>\n",
       "<style>\n",
       "    .dataframe thead tr:only-child th {\n",
       "        text-align: right;\n",
       "    }\n",
       "\n",
       "    .dataframe thead th {\n",
       "        text-align: left;\n",
       "    }\n",
       "\n",
       "    .dataframe tbody tr th {\n",
       "        vertical-align: top;\n",
       "    }\n",
       "</style>\n",
       "<table border=\"1\" class=\"dataframe\">\n",
       "  <thead>\n",
       "    <tr style=\"text-align: right;\">\n",
       "      <th></th>\n",
       "      <th>Survived</th>\n",
       "      <th>Pclass</th>\n",
       "      <th>Sex</th>\n",
       "      <th>Age</th>\n",
       "      <th>Fare</th>\n",
       "      <th>Embarked</th>\n",
       "      <th>FamilySize</th>\n",
       "      <th>Alone</th>\n",
       "      <th>Title</th>\n",
       "    </tr>\n",
       "  </thead>\n",
       "  <tbody>\n",
       "    <tr>\n",
       "      <th>0</th>\n",
       "      <td>0</td>\n",
       "      <td>3</td>\n",
       "      <td>1</td>\n",
       "      <td>1.0</td>\n",
       "      <td>0</td>\n",
       "      <td>1</td>\n",
       "      <td>2</td>\n",
       "      <td>0</td>\n",
       "      <td>1</td>\n",
       "    </tr>\n",
       "    <tr>\n",
       "      <th>1</th>\n",
       "      <td>1</td>\n",
       "      <td>1</td>\n",
       "      <td>0</td>\n",
       "      <td>2.0</td>\n",
       "      <td>3</td>\n",
       "      <td>2</td>\n",
       "      <td>2</td>\n",
       "      <td>0</td>\n",
       "      <td>3</td>\n",
       "    </tr>\n",
       "    <tr>\n",
       "      <th>2</th>\n",
       "      <td>1</td>\n",
       "      <td>3</td>\n",
       "      <td>0</td>\n",
       "      <td>1.0</td>\n",
       "      <td>1</td>\n",
       "      <td>1</td>\n",
       "      <td>1</td>\n",
       "      <td>1</td>\n",
       "      <td>2</td>\n",
       "    </tr>\n",
       "    <tr>\n",
       "      <th>3</th>\n",
       "      <td>1</td>\n",
       "      <td>1</td>\n",
       "      <td>0</td>\n",
       "      <td>2.0</td>\n",
       "      <td>3</td>\n",
       "      <td>1</td>\n",
       "      <td>2</td>\n",
       "      <td>0</td>\n",
       "      <td>3</td>\n",
       "    </tr>\n",
       "    <tr>\n",
       "      <th>4</th>\n",
       "      <td>0</td>\n",
       "      <td>3</td>\n",
       "      <td>1</td>\n",
       "      <td>2.0</td>\n",
       "      <td>1</td>\n",
       "      <td>1</td>\n",
       "      <td>1</td>\n",
       "      <td>1</td>\n",
       "      <td>1</td>\n",
       "    </tr>\n",
       "  </tbody>\n",
       "</table>\n",
       "</div>"
      ],
      "text/plain": [
       "   Survived  Pclass  Sex  Age  Fare  Embarked  FamilySize  Alone  Title\n",
       "0         0       3    1  1.0     0         1           2      0      1\n",
       "1         1       1    0  2.0     3         2           2      0      3\n",
       "2         1       3    0  1.0     1         1           1      1      2\n",
       "3         1       1    0  2.0     3         1           2      0      3\n",
       "4         0       3    1  2.0     1         1           1      1      1"
      ]
     },
     "execution_count": 75,
     "metadata": {},
     "output_type": "execute_result"
    }
   ],
   "source": [
    "train_data.head()"
   ]
  },
  {
   "cell_type": "code",
   "execution_count": 76,
   "metadata": {},
   "outputs": [
    {
     "name": "stdout",
     "output_type": "stream",
     "text": [
      "<class 'pandas.core.frame.DataFrame'>\n",
      "RangeIndex: 891 entries, 0 to 890\n",
      "Data columns (total 9 columns):\n",
      "Survived      891 non-null int64\n",
      "Pclass        891 non-null int64\n",
      "Sex           891 non-null int64\n",
      "Age           891 non-null float64\n",
      "Fare          891 non-null int64\n",
      "Embarked      891 non-null int64\n",
      "FamilySize    891 non-null int64\n",
      "Alone         891 non-null int64\n",
      "Title         891 non-null int64\n",
      "dtypes: float64(1), int64(8)\n",
      "memory usage: 62.7 KB\n"
     ]
    }
   ],
   "source": [
    "train_data.info()"
   ]
  },
  {
   "cell_type": "code",
   "execution_count": 162,
   "metadata": {
    "collapsed": true
   },
   "outputs": [],
   "source": [
    "#train_data = train_data[train_data.Person == 1]"
   ]
  },
  {
   "cell_type": "code",
   "execution_count": 77,
   "metadata": {
    "collapsed": true
   },
   "outputs": [],
   "source": [
    "t = train_data.iloc[:,0]\n",
    "x = train_data.iloc[:,1:]"
   ]
  },
  {
   "cell_type": "code",
   "execution_count": 78,
   "metadata": {
    "collapsed": true
   },
   "outputs": [],
   "source": [
    "x = x.values"
   ]
  },
  {
   "cell_type": "code",
   "execution_count": 79,
   "metadata": {
    "collapsed": true
   },
   "outputs": [],
   "source": [
    "x = x.astype(\"f\")\n",
    "t = t.astype(\"i\")"
   ]
  },
  {
   "cell_type": "code",
   "execution_count": 80,
   "metadata": {
    "collapsed": true
   },
   "outputs": [],
   "source": [
    "dataset = list(zip(x, t))"
   ]
  },
  {
   "cell_type": "code",
   "execution_count": 81,
   "metadata": {},
   "outputs": [
    {
     "name": "stderr",
     "output_type": "stream",
     "text": [
      "/usr/local/pyenv/versions/anaconda3-4.4.0/lib/python3.6/site-packages/h5py/__init__.py:34: FutureWarning: Conversion of the second argument of issubdtype from `float` to `np.floating` is deprecated. In future, it will be treated as `np.float64 == np.dtype(float).type`.\n",
      "  from ._conv import register_converters as _register_converters\n"
     ]
    }
   ],
   "source": [
    "import chainer\n",
    "import chainer.functions as F\n",
    "import chainer.links as L\n",
    "import chainer\n",
    "import cupy\n",
    "\n",
    "from chainer import training\n",
    "from chainer.training import extensions"
   ]
  },
  {
   "cell_type": "code",
   "execution_count": 82,
   "metadata": {
    "collapsed": true
   },
   "outputs": [],
   "source": [
    "n_train = int(len(dataset)*0.7)"
   ]
  },
  {
   "cell_type": "code",
   "execution_count": 83,
   "metadata": {
    "collapsed": true
   },
   "outputs": [],
   "source": [
    "train, test = chainer.datasets.split_dataset_random(dataset, n_train, seed=1)"
   ]
  },
  {
   "cell_type": "code",
   "execution_count": 84,
   "metadata": {
    "collapsed": true
   },
   "outputs": [],
   "source": [
    "class NN(chainer.Chain):\n",
    "    def __init__(self, n_mid_units1=3, n_out=2):\n",
    "        super().__init__()\n",
    "        with self.init_scope():\n",
    "            self.fc1 = L.Linear(None, n_mid_units1)\n",
    "            self.fc2 = L.Linear(None, n_out)\n",
    "            \n",
    "            self.bn = L.BatchNormalization(8)\n",
    "    \n",
    "    def __call__(self, x):\n",
    "        h = self.bn(x)\n",
    "        h = self.fc1(h)\n",
    "        h = F.relu(h)\n",
    "        h = self.fc2(h)\n",
    "        return h"
   ]
  },
  {
   "cell_type": "code",
   "execution_count": 85,
   "metadata": {
    "collapsed": true
   },
   "outputs": [],
   "source": [
    "np.random.seed(1)\n",
    "nn = NN()\n",
    "model = L.Classifier(nn)\n",
    "optimizer = chainer.optimizers.Adam()\n",
    "optimizer.setup(model)\n",
    "batch_size = 10"
   ]
  },
  {
   "cell_type": "code",
   "execution_count": 86,
   "metadata": {
    "collapsed": true
   },
   "outputs": [],
   "source": [
    "train_iter = chainer.iterators.SerialIterator(train, batch_size)\n",
    "test_iter = chainer.iterators.SerialIterator(test, batch_size, repeat=False, shuffle=False)"
   ]
  },
  {
   "cell_type": "code",
   "execution_count": 87,
   "metadata": {
    "collapsed": true
   },
   "outputs": [],
   "source": [
    "updater = training.StandardUpdater(train_iter, optimizer, device=-1)"
   ]
  },
  {
   "cell_type": "code",
   "execution_count": 88,
   "metadata": {
    "collapsed": true
   },
   "outputs": [],
   "source": [
    "epoch = 200"
   ]
  },
  {
   "cell_type": "code",
   "execution_count": 89,
   "metadata": {
    "collapsed": true
   },
   "outputs": [],
   "source": [
    "trainer = training.Trainer(updater, (epoch, \"epoch\"), out=\"result/titanic\")\n",
    "\n",
    "trainer.extend(extensions.Evaluator(test_iter, model, device=-1))\n",
    "trainer.extend(extensions.LogReport(trigger=(1, \"epoch\")))\n",
    "trainer.extend(extensions.PrintReport([\"epoch\", \"main/accuracy\", \"validation/main/accuracy\", \"main/loss\", \"validation/main/loss\"]))"
   ]
  },
  {
   "cell_type": "code",
   "execution_count": 90,
   "metadata": {},
   "outputs": [
    {
     "name": "stdout",
     "output_type": "stream",
     "text": [
      "epoch       main/accuracy  validation/main/accuracy  main/loss   validation/main/loss\n",
      "\u001b[J1           0.568254       0.615741                  0.743348    0.708283              \n",
      "\u001b[J2           0.646774       0.637963                  0.687969    0.643819              \n",
      "\u001b[J3           0.679032       0.689815                  0.64776     0.602421              \n",
      "\u001b[J4           0.738095       0.741667                  0.591825    0.5654                \n",
      "\u001b[J5           0.76129        0.778704                  0.572261    0.541489              \n",
      "\u001b[J6           0.785484       0.778704                  0.539165    0.520845              \n",
      "\u001b[J7           0.784127       0.789815                  0.512349    0.500397              \n",
      "\u001b[J8           0.783871       0.793519                  0.527435    0.491326              \n",
      "\u001b[J9           0.790323       0.793519                  0.515839    0.482373              \n",
      "\u001b[J10          0.798387       0.793519                  0.504042    0.477044              \n",
      "\u001b[J11          0.788889       0.793519                  0.495353    0.477761              \n",
      "\u001b[J12          0.795161       0.812037                  0.483427    0.46367               \n",
      "\u001b[J13          0.785484       0.800926                  0.489841    0.461025              \n",
      "\u001b[J14          0.785714       0.80463                   0.489206    0.459649              \n",
      "\u001b[J15          0.795161       0.80463                   0.490776    0.449059              \n",
      "\u001b[J16          0.78871        0.808333                  0.47921     0.448802              \n",
      "\u001b[J17          0.819048       0.808333                  0.46873     0.455743              \n",
      "\u001b[J18          0.796774       0.812037                  0.461129    0.450637              \n",
      "\u001b[J19          0.81129        0.808333                  0.467102    0.436958              \n",
      "\u001b[J20          0.803226       0.80463                   0.453491    0.44335               \n",
      "\u001b[J21          0.795238       0.815741                  0.453103    0.440703              \n",
      "\u001b[J22          0.796774       0.800926                  0.463719    0.447168              \n",
      "\u001b[J23          0.8            0.800926                  0.455322    0.442364              \n",
      "\u001b[J24          0.806349       0.800926                  0.458122    0.438766              \n",
      "\u001b[J25          0.819355       0.80463                   0.440625    0.433877              \n",
      "\u001b[J26          0.816129       0.80463                   0.452361    0.433612              \n",
      "\u001b[J27          0.807937       0.778704                  0.463623    0.449944              \n",
      "\u001b[J28          0.806452       0.812037                  0.450095    0.431203              \n",
      "\u001b[J29          0.820968       0.797222                  0.437991    0.437849              \n",
      "\u001b[J30          0.796774       0.793519                  0.460375    0.439235              \n",
      "\u001b[J31          0.820635       0.793519                  0.457047    0.440995              \n",
      "\u001b[J32          0.816129       0.815741                  0.457246    0.429351              \n",
      "\u001b[J33          0.804839       0.800926                  0.44717     0.434128              \n",
      "\u001b[J34          0.777778       0.815741                  0.466604    0.433223              \n",
      "\u001b[J35          0.804839       0.830556                  0.456294    0.429171              \n",
      "\u001b[J36          0.8            0.815741                  0.455636    0.427729              \n",
      "\u001b[J37          0.812698       0.815741                  0.455179    0.427832              \n",
      "\u001b[J38          0.796774       0.815741                  0.45705     0.432139              \n",
      "\u001b[J39          0.801613       0.812037                  0.449936    0.430602              \n",
      "\u001b[J40          0.795161       0.819444                  0.467991    0.432923              \n",
      "\u001b[J41          0.803175       0.819444                  0.448043    0.428248              \n",
      "\u001b[J42          0.78871        0.815741                  0.469196    0.431073              \n",
      "\u001b[J43          0.817742       0.808333                  0.450448    0.429725              \n",
      "\u001b[J44          0.793651       0.819444                  0.453357    0.432802              \n",
      "\u001b[J45          0.812903       0.830556                  0.460295    0.425469              \n",
      "\u001b[J46          0.796774       0.819444                  0.45517     0.428807              \n",
      "\u001b[J47          0.793651       0.812037                  0.45555     0.432166              \n",
      "\u001b[J48          0.803226       0.834259                  0.462557    0.426028              \n",
      "\u001b[J49          0.804839       0.823148                  0.456578    0.427127              \n",
      "\u001b[J50          0.804839       0.815741                  0.442583    0.431396              \n",
      "\u001b[J51          0.795238       0.80463                   0.452592    0.432004              \n",
      "\u001b[J52          0.81129        0.812037                  0.448449    0.427045              \n",
      "\u001b[J53          0.809677       0.834259                  0.438136    0.424659              \n",
      "\u001b[J54          0.819048       0.837963                  0.437453    0.423097              \n",
      "\u001b[J55          0.81129        0.830556                  0.446868    0.422869              \n",
      "\u001b[J56          0.806452       0.819444                  0.462802    0.428126              \n",
      "\u001b[J57          0.806349       0.812037                  0.443312    0.429823              \n",
      "\u001b[J58          0.798387       0.819444                  0.451255    0.42406               \n",
      "\u001b[J59          0.801613       0.830556                  0.447269    0.426275              \n",
      "\u001b[J60          0.795161       0.834259                  0.456605    0.42355               \n",
      "\u001b[J61          0.806349       0.830556                  0.44698     0.42107               \n",
      "\u001b[J62          0.798387       0.841667                  0.44475     0.42074               \n",
      "\u001b[J63          0.801613       0.834259                  0.445188    0.422464              \n",
      "\u001b[J64          0.811111       0.834259                  0.43819     0.421443              \n",
      "\u001b[J65          0.812903       0.841667                  0.439076    0.421936              \n",
      "\u001b[J66          0.796774       0.830556                  0.443314    0.424996              \n",
      "\u001b[J67          0.795238       0.823148                  0.443436    0.425617              \n",
      "\u001b[J68          0.822581       0.830556                  0.445139    0.425351              \n",
      "\u001b[J69          0.814516       0.834259                  0.43409     0.427858              \n",
      "\u001b[J70          0.820968       0.826852                  0.443863    0.424914              \n",
      "\u001b[J71          0.809524       0.841667                  0.431069    0.419724              \n",
      "\u001b[J72          0.812903       0.84537                   0.45597     0.419907              \n",
      "\u001b[J73          0.793548       0.826852                  0.459721    0.42468               \n",
      "\u001b[J74          0.803175       0.841667                  0.452979    0.420991              \n",
      "\u001b[J75          0.78871        0.84537                   0.459019    0.422338              \n",
      "\u001b[J76          0.796774       0.826852                  0.448923    0.42668               \n",
      "\u001b[J77          0.809524       0.830556                  0.452313    0.424233              \n",
      "\u001b[J78          0.812903       0.834259                  0.432872    0.421836              \n",
      "\u001b[J79          0.793548       0.834259                  0.44221     0.4266                \n",
      "\u001b[J80          0.801613       0.837963                  0.431786    0.423769              \n",
      "\u001b[J81          0.803175       0.830556                  0.456603    0.424863              \n",
      "\u001b[J82          0.81129        0.837963                  0.434947    0.421047              \n",
      "\u001b[J83          0.803226       0.823148                  0.446256    0.425088              \n",
      "\u001b[J84          0.82381        0.834259                  0.433834    0.42259               \n",
      "\u001b[J85          0.819355       0.837963                  0.427325    0.420325              \n",
      "\u001b[J86          0.809677       0.841667                  0.432371    0.418663              \n",
      "\u001b[J87          0.803175       0.837963                  0.445327    0.418625              \n",
      "\u001b[J88          0.803226       0.837963                  0.43564     0.422692              \n",
      "\u001b[J89          0.803226       0.823148                  0.433579    0.422391              \n",
      "\u001b[J90          0.795161       0.808333                  0.457991    0.433022              \n"
     ]
    },
    {
     "name": "stdout",
     "output_type": "stream",
     "text": [
      "\u001b[J91          0.806349       0.834259                  0.442909    0.420892              \n",
      "\u001b[J92          0.796774       0.830556                  0.452229    0.425966              \n",
      "\u001b[J93          0.803226       0.841667                  0.443805    0.420757              \n",
      "\u001b[J94          0.798413       0.837963                  0.439286    0.422874              \n",
      "\u001b[J95          0.806452       0.830556                  0.434223    0.423572              \n",
      "\u001b[J96          0.796774       0.837963                  0.439901    0.422194              \n",
      "\u001b[J97          0.8            0.837963                  0.452626    0.424163              \n",
      "\u001b[J98          0.801613       0.823148                  0.437853    0.428251              \n",
      "\u001b[J99          0.795161       0.84537                   0.435214    0.41877               \n",
      "\u001b[J100         0.803226       0.837963                  0.436577    0.421781              \n",
      "\u001b[J101         0.811111       0.830556                  0.449867    0.421826              \n",
      "\u001b[J102         0.809677       0.830556                  0.430725    0.42599               \n",
      "\u001b[J103         0.803226       0.837963                  0.450649    0.426229              \n",
      "\u001b[J104         0.825397       0.841667                  0.429859    0.423919              \n",
      "\u001b[J105         0.819355       0.823148                  0.437558    0.433006              \n",
      "\u001b[J106         0.806452       0.834259                  0.452162    0.428336              \n",
      "\u001b[J107         0.801587       0.834259                  0.471504    0.419898              \n",
      "\u001b[J108         0.827419       0.837963                  0.431519    0.424664              \n",
      "\u001b[J109         0.81129        0.834259                  0.439958    0.423641              \n",
      "\u001b[J110         0.81129        0.84537                   0.452737    0.425416              \n",
      "\u001b[J111         0.811111       0.812037                  0.444469    0.434747              \n",
      "\u001b[J112         0.803226       0.826852                  0.45114     0.418656              \n",
      "\u001b[J113         0.804839       0.834259                  0.440356    0.422499              \n",
      "\u001b[J114         0.811111       0.834259                  0.440639    0.424735              \n",
      "\u001b[J115         0.814516       0.834259                  0.442346    0.422096              \n",
      "\u001b[J116         0.801613       0.837963                  0.458429    0.424991              \n",
      "\u001b[J117         0.8            0.830556                  0.445343    0.425849              \n",
      "\u001b[J118         0.814516       0.84537                   0.439484    0.426294              \n",
      "\u001b[J119         0.817742       0.841667                  0.433738    0.422551              \n",
      "\u001b[J120         0.816129       0.830556                  0.42479     0.425965              \n",
      "\u001b[J121         0.801587       0.84537                   0.447177    0.42504               \n",
      "\u001b[J122         0.814516       0.834259                  0.425825    0.426981              \n",
      "\u001b[J123         0.817742       0.823148                  0.432214    0.439446              \n",
      "\u001b[J124         0.795238       0.830556                  0.450327    0.420951              \n",
      "\u001b[J125         0.812903       0.830556                  0.433172    0.42509               \n",
      "\u001b[J126         0.809677       0.837963                  0.417138    0.423082              \n",
      "\u001b[J127         0.830159       0.837963                  0.420572    0.426596              \n",
      "\u001b[J128         0.806452       0.841667                  0.444694    0.423951              \n",
      "\u001b[J129         0.819355       0.830556                  0.432912    0.425606              \n",
      "\u001b[J130         0.806452       0.830556                  0.446988    0.434183              \n",
      "\u001b[J131         0.820635       0.834259                  0.445112    0.427059              \n",
      "\u001b[J132         0.804839       0.841667                  0.435219    0.425507              \n",
      "\u001b[J133         0.809677       0.837963                  0.434629    0.425409              \n",
      "\u001b[J134         0.82381        0.837963                  0.423317    0.425472              \n",
      "\u001b[J135         0.804839       0.834259                  0.455203    0.42841               \n",
      "\u001b[J136         0.808065       0.841667                  0.44429     0.426406              \n",
      "\u001b[J137         0.815873       0.834259                  0.447055    0.430435              \n",
      "\u001b[J138         0.825806       0.837963                  0.419646    0.423519              \n",
      "\u001b[J139         0.791935       0.841667                  0.457074    0.424939              \n",
      "\u001b[J140         0.804839       0.841667                  0.445903    0.425764              \n",
      "\u001b[J141         0.806349       0.834259                  0.441573    0.426555              \n",
      "\u001b[J142         0.81129        0.834259                  0.453129    0.424373              \n",
      "\u001b[J143         0.819355       0.826852                  0.432939    0.429407              \n",
      "\u001b[J144         0.815873       0.837963                  0.447683    0.425783              \n",
      "\u001b[J145         0.817742       0.830556                  0.428978    0.427121              \n",
      "\u001b[J146         0.825806       0.834259                  0.425612    0.431611              \n",
      "\u001b[J147         0.801587       0.841667                  0.455361    0.425248              \n",
      "\u001b[J148         0.804839       0.837963                  0.441332    0.425498              \n",
      "\u001b[J149         0.809677       0.841667                  0.43336     0.425176              \n",
      "\u001b[J150         0.795161       0.834259                  0.445064    0.426494              \n",
      "\u001b[J151         0.811111       0.830556                  0.431639    0.429779              \n",
      "\u001b[J152         0.822581       0.837963                  0.434455    0.42438               \n",
      "\u001b[J153         0.803226       0.837963                  0.428568    0.422551              \n",
      "\u001b[J154         0.811111       0.834259                  0.423031    0.42398               \n",
      "\u001b[J155         0.808065       0.837963                  0.446557    0.428816              \n",
      "\u001b[J156         0.804839       0.841667                  0.444363    0.431784              \n",
      "\u001b[J157         0.809524       0.834259                  0.421987    0.424459              \n",
      "\u001b[J158         0.806452       0.837963                  0.451676    0.424728              \n",
      "\u001b[J159         0.812903       0.834259                  0.434371    0.421172              \n",
      "\u001b[J160         0.822581       0.834259                  0.434427    0.421409              \n",
      "\u001b[J161         0.809524       0.837963                  0.431733    0.422456              \n",
      "\u001b[J162         0.808065       0.830556                  0.44367     0.433565              \n",
      "\u001b[J163         0.809677       0.837963                  0.434823    0.421949              \n",
      "\u001b[J164         0.807937       0.837963                  0.444435    0.427769              \n",
      "\u001b[J165         0.803226       0.830556                  0.43864     0.434142              \n",
      "\u001b[J166         0.795161       0.837963                  0.442069    0.423731              \n",
      "\u001b[J167         0.815873       0.837963                  0.436104    0.422516              \n",
      "\u001b[J168         0.809677       0.834259                  0.431704    0.423703              \n",
      "\u001b[J169         0.806452       0.837963                  0.442053    0.422511              \n",
      "\u001b[J170         0.81129        0.830556                  0.438662    0.428612              \n",
      "\u001b[J171         0.804762       0.834259                  0.432927    0.430128              \n",
      "\u001b[J172         0.803226       0.826852                  0.441919    0.425947              \n",
      "\u001b[J173         0.801613       0.834259                  0.456546    0.430442              \n",
      "\u001b[J174         0.806349       0.830556                  0.428485    0.425838              \n",
      "\u001b[J175         0.819355       0.826852                  0.428554    0.43417               \n",
      "\u001b[J176         0.804839       0.830556                  0.432521    0.422056              \n",
      "\u001b[J177         0.784127       0.837963                  0.432991    0.420749              \n",
      "\u001b[J178         0.804839       0.826852                  0.448936    0.434566              \n",
      "\u001b[J179         0.803226       0.837963                  0.434744    0.423406              \n",
      "\u001b[J180         0.809677       0.834259                  0.435176    0.423612              \n",
      "\u001b[J181         0.811111       0.837963                  0.419627    0.426143              \n"
     ]
    },
    {
     "name": "stdout",
     "output_type": "stream",
     "text": [
      "\u001b[J182         0.791935       0.837963                  0.441547    0.423644              \n",
      "\u001b[J183         0.801613       0.834259                  0.444482    0.431799              \n",
      "\u001b[J184         0.803175       0.808333                  0.448855    0.446822              \n",
      "\u001b[J185         0.791935       0.834259                  0.438202    0.423882              \n",
      "\u001b[J186         0.801613       0.826852                  0.465523    0.429591              \n",
      "\u001b[J187         0.793651       0.830556                  0.434232    0.428677              \n",
      "\u001b[J188         0.814516       0.834259                  0.434092    0.431282              \n",
      "\u001b[J189         0.808065       0.830556                  0.449562    0.432569              \n",
      "\u001b[J190         0.809677       0.830556                  0.438475    0.430248              \n",
      "\u001b[J191         0.803175       0.819444                  0.449205    0.438887              \n",
      "\u001b[J192         0.804839       0.826852                  0.425444    0.431518              \n",
      "\u001b[J193         0.81129        0.837963                  0.450255    0.423991              \n",
      "\u001b[J194         0.814286       0.830556                  0.428209    0.428934              \n",
      "\u001b[J195         0.795161       0.823148                  0.43988     0.426548              \n",
      "\u001b[J196         0.812903       0.830556                  0.439735    0.427222              \n",
      "\u001b[J197         0.798413       0.830556                  0.441926    0.427675              \n",
      "\u001b[J198         0.78871        0.826852                  0.450388    0.426796              \n",
      "\u001b[J199         0.806452       0.830556                  0.441274    0.429713              \n",
      "\u001b[J200         0.827419       0.834259                  0.42393     0.420005              \n"
     ]
    }
   ],
   "source": [
    "trainer.run()"
   ]
  },
  {
   "cell_type": "code",
   "execution_count": 91,
   "metadata": {
    "collapsed": true
   },
   "outputs": [],
   "source": [
    "import json"
   ]
  },
  {
   "cell_type": "code",
   "execution_count": 92,
   "metadata": {
    "collapsed": true
   },
   "outputs": [],
   "source": [
    "with open(\"result/titanic/log\") as f:\n",
    "    logs = json.load(f)"
   ]
  },
  {
   "cell_type": "code",
   "execution_count": 93,
   "metadata": {
    "collapsed": true
   },
   "outputs": [],
   "source": [
    "results = pd.DataFrame(logs)"
   ]
  },
  {
   "cell_type": "code",
   "execution_count": 94,
   "metadata": {},
   "outputs": [
    {
     "data": {
      "text/plain": [
       "<matplotlib.axes._subplots.AxesSubplot at 0x7ff6d8229470>"
      ]
     },
     "execution_count": 94,
     "metadata": {},
     "output_type": "execute_result"
    },
    {
     "data": {
      "image/png": "[encoded data removed]",
      "text/plain": [
       "<matplotlib.figure.Figure at 0x7ff6d8229668>"
      ]
     },
     "metadata": {},
     "output_type": "display_data"
    }
   ],
   "source": [
    "%matplotlib inline\n",
    "results[[\"main/accuracy\", \"validation/main/accuracy\"]].plot()"
   ]
  },
  {
   "cell_type": "code",
   "execution_count": 95,
   "metadata": {
    "collapsed": true
   },
   "outputs": [],
   "source": [
    "chainer.serializers.save_npz(\"models/titanic_5.npz\", model)"
   ]
  },
  {
   "cell_type": "code",
   "execution_count": 190,
   "metadata": {
    "collapsed": true
   },
   "outputs": [],
   "source": [
    "model_man = L.Classifier(NN())\n",
    "chainer.serializers.load_npz(\"models/titanic_man_3.npz\", model_man)"
   ]
  },
  {
   "cell_type": "code",
   "execution_count": 191,
   "metadata": {
    "collapsed": true
   },
   "outputs": [],
   "source": [
    "model = L.Classifier(NN())\n",
    "chainer.serializers.load_npz(\"models/titanic_4.npz\", model)"
   ]
  },
  {
   "cell_type": "code",
   "execution_count": 100,
   "metadata": {},
   "outputs": [
    {
     "name": "stdout",
     "output_type": "stream",
     "text": [
      "<class 'pandas.core.frame.DataFrame'>\n",
      "RangeIndex: 418 entries, 0 to 417\n",
      "Data columns (total 11 columns):\n",
      "PassengerId    418 non-null int64\n",
      "Pclass         418 non-null int64\n",
      "Name           418 non-null object\n",
      "Sex            418 non-null object\n",
      "Age            332 non-null float64\n",
      "SibSp          418 non-null int64\n",
      "Parch          418 non-null int64\n",
      "Ticket         418 non-null object\n",
      "Fare           417 non-null float64\n",
      "Cabin          91 non-null object\n",
      "Embarked       418 non-null object\n",
      "dtypes: float64(2), int64(4), object(5)\n",
      "memory usage: 36.0+ KB\n"
     ]
    }
   ],
   "source": [
    "titanic_df = pd.read_csv('test.csv')\n",
    "titanic_df.info()"
   ]
  },
  {
   "cell_type": "code",
   "execution_count": 101,
   "metadata": {},
   "outputs": [
    {
     "name": "stderr",
     "output_type": "stream",
     "text": [
      "/usr/local/pyenv/versions/anaconda3-4.4.0/lib/python3.6/site-packages/pandas/core/indexing.py:179: SettingWithCopyWarning: \n",
      "A value is trying to be set on a copy of a slice from a DataFrame\n",
      "\n",
      "See the caveats in the documentation: http://pandas.pydata.org/pandas-docs/stable/indexing.html#indexing-view-versus-copy\n",
      "  self._setitem_with_indexer(indexer, value)\n"
     ]
    }
   ],
   "source": [
    "titanic_df = pre_process(titanic_df)"
   ]
  },
  {
   "cell_type": "code",
   "execution_count": 102,
   "metadata": {
    "collapsed": true
   },
   "outputs": [],
   "source": [
    "test_data = titanic_df.drop(['PassengerId','Name','SibSp','Parch', 'Ticket', 'Cabin'], 1)"
   ]
  },
  {
   "cell_type": "code",
   "execution_count": 103,
   "metadata": {},
   "outputs": [
    {
     "name": "stdout",
     "output_type": "stream",
     "text": [
      "<class 'pandas.core.frame.DataFrame'>\n",
      "RangeIndex: 418 entries, 0 to 417\n",
      "Data columns (total 8 columns):\n",
      "Pclass        418 non-null int64\n",
      "Sex           418 non-null int64\n",
      "Age           418 non-null float64\n",
      "Fare          418 non-null int64\n",
      "Embarked      418 non-null int64\n",
      "FamilySize    418 non-null int64\n",
      "Alone         418 non-null int64\n",
      "Title         418 non-null int64\n",
      "dtypes: float64(1), int64(7)\n",
      "memory usage: 26.2 KB\n"
     ]
    }
   ],
   "source": [
    "test_data.info()"
   ]
  },
  {
   "cell_type": "code",
   "execution_count": 104,
   "metadata": {
    "collapsed": true
   },
   "outputs": [],
   "source": [
    "x = test_data.values"
   ]
  },
  {
   "cell_type": "code",
   "execution_count": 105,
   "metadata": {
    "collapsed": true
   },
   "outputs": [],
   "source": [
    "x = x.astype(\"f\")"
   ]
  },
  {
   "cell_type": "code",
   "execution_count": 106,
   "metadata": {
    "collapsed": true
   },
   "outputs": [],
   "source": [
    "survived = []"
   ]
  },
  {
   "cell_type": "code",
   "execution_count": 107,
   "metadata": {},
   "outputs": [
    {
     "data": {
      "text/html": [
       "<div>\n",
       "<style>\n",
       "    .dataframe thead tr:only-child th {\n",
       "        text-align: right;\n",
       "    }\n",
       "\n",
       "    .dataframe thead th {\n",
       "        text-align: left;\n",
       "    }\n",
       "\n",
       "    .dataframe tbody tr th {\n",
       "        vertical-align: top;\n",
       "    }\n",
       "</style>\n",
       "<table border=\"1\" class=\"dataframe\">\n",
       "  <thead>\n",
       "    <tr style=\"text-align: right;\">\n",
       "      <th></th>\n",
       "      <th>Pclass</th>\n",
       "      <th>Sex</th>\n",
       "      <th>Age</th>\n",
       "      <th>Fare</th>\n",
       "      <th>Embarked</th>\n",
       "      <th>FamilySize</th>\n",
       "      <th>Alone</th>\n",
       "      <th>Title</th>\n",
       "    </tr>\n",
       "  </thead>\n",
       "  <tbody>\n",
       "    <tr>\n",
       "      <th>0</th>\n",
       "      <td>3</td>\n",
       "      <td>1</td>\n",
       "      <td>2.0</td>\n",
       "      <td>0</td>\n",
       "      <td>3</td>\n",
       "      <td>1</td>\n",
       "      <td>1</td>\n",
       "      <td>1</td>\n",
       "    </tr>\n",
       "    <tr>\n",
       "      <th>1</th>\n",
       "      <td>3</td>\n",
       "      <td>0</td>\n",
       "      <td>2.0</td>\n",
       "      <td>0</td>\n",
       "      <td>1</td>\n",
       "      <td>2</td>\n",
       "      <td>0</td>\n",
       "      <td>3</td>\n",
       "    </tr>\n",
       "    <tr>\n",
       "      <th>2</th>\n",
       "      <td>2</td>\n",
       "      <td>1</td>\n",
       "      <td>3.0</td>\n",
       "      <td>1</td>\n",
       "      <td>3</td>\n",
       "      <td>1</td>\n",
       "      <td>1</td>\n",
       "      <td>1</td>\n",
       "    </tr>\n",
       "    <tr>\n",
       "      <th>3</th>\n",
       "      <td>3</td>\n",
       "      <td>1</td>\n",
       "      <td>1.0</td>\n",
       "      <td>1</td>\n",
       "      <td>1</td>\n",
       "      <td>1</td>\n",
       "      <td>1</td>\n",
       "      <td>1</td>\n",
       "    </tr>\n",
       "    <tr>\n",
       "      <th>4</th>\n",
       "      <td>3</td>\n",
       "      <td>0</td>\n",
       "      <td>1.0</td>\n",
       "      <td>1</td>\n",
       "      <td>1</td>\n",
       "      <td>3</td>\n",
       "      <td>0</td>\n",
       "      <td>3</td>\n",
       "    </tr>\n",
       "  </tbody>\n",
       "</table>\n",
       "</div>"
      ],
      "text/plain": [
       "   Pclass  Sex  Age  Fare  Embarked  FamilySize  Alone  Title\n",
       "0       3    1  2.0     0         3           1      1      1\n",
       "1       3    0  2.0     0         1           2      0      3\n",
       "2       2    1  3.0     1         3           1      1      1\n",
       "3       3    1  1.0     1         1           1      1      1\n",
       "4       3    0  1.0     1         1           3      0      3"
      ]
     },
     "execution_count": 107,
     "metadata": {},
     "output_type": "execute_result"
    }
   ],
   "source": [
    "test_data.head()"
   ]
  },
  {
   "cell_type": "code",
   "execution_count": 108,
   "metadata": {
    "collapsed": true
   },
   "outputs": [],
   "source": [
    "with chainer.using_config('train', False), chainer.using_config('enable_backprop', False):\n",
    "    for i, x_ in enumerate(x):\n",
    "        x_new = x_\n",
    "        x_new = x_new[np.newaxis]\n",
    "        '''\n",
    "        if test_data['Person'].iloc[i] == 1:\n",
    "            y = model_man.predictor(x_new)\n",
    "        else:\n",
    "             y = model.predictor(x_new)\n",
    "        '''\n",
    "        y = model.predictor(x_new)\n",
    "        y = F.softmax(y)\n",
    "        survived.append(np.argmax(y.array))"
   ]
  },
  {
   "cell_type": "code",
   "execution_count": 109,
   "metadata": {},
   "outputs": [
    {
     "data": {
      "text/plain": [
       "418"
      ]
     },
     "execution_count": 109,
     "metadata": {},
     "output_type": "execute_result"
    }
   ],
   "source": [
    "len(survived)"
   ]
  },
  {
   "cell_type": "code",
   "execution_count": 110,
   "metadata": {
    "collapsed": true
   },
   "outputs": [],
   "source": [
    "titanic_df['Survived'] = np.array(survived)"
   ]
  },
  {
   "cell_type": "code",
   "execution_count": 112,
   "metadata": {},
   "outputs": [],
   "source": [
    "predict_df = titanic_df.drop(['Name','Title' ,'Sex','SibSp','Parch','FamilySize' ,'Fare', 'Ticket', 'Cabin', 'Embarked', 'Pclass', 'Age', 'Alone'], 1)"
   ]
  },
  {
   "cell_type": "code",
   "execution_count": 113,
   "metadata": {},
   "outputs": [
    {
     "data": {
      "text/html": [
       "<div>\n",
       "<style>\n",
       "    .dataframe thead tr:only-child th {\n",
       "        text-align: right;\n",
       "    }\n",
       "\n",
       "    .dataframe thead th {\n",
       "        text-align: left;\n",
       "    }\n",
       "\n",
       "    .dataframe tbody tr th {\n",
       "        vertical-align: top;\n",
       "    }\n",
       "</style>\n",
       "<table border=\"1\" class=\"dataframe\">\n",
       "  <thead>\n",
       "    <tr style=\"text-align: right;\">\n",
       "      <th></th>\n",
       "      <th>PassengerId</th>\n",
       "      <th>Survived</th>\n",
       "    </tr>\n",
       "  </thead>\n",
       "  <tbody>\n",
       "    <tr>\n",
       "      <th>0</th>\n",
       "      <td>892</td>\n",
       "      <td>0</td>\n",
       "    </tr>\n",
       "    <tr>\n",
       "      <th>1</th>\n",
       "      <td>893</td>\n",
       "      <td>1</td>\n",
       "    </tr>\n",
       "    <tr>\n",
       "      <th>2</th>\n",
       "      <td>894</td>\n",
       "      <td>0</td>\n",
       "    </tr>\n",
       "    <tr>\n",
       "      <th>3</th>\n",
       "      <td>895</td>\n",
       "      <td>0</td>\n",
       "    </tr>\n",
       "    <tr>\n",
       "      <th>4</th>\n",
       "      <td>896</td>\n",
       "      <td>1</td>\n",
       "    </tr>\n",
       "  </tbody>\n",
       "</table>\n",
       "</div>"
      ],
      "text/plain": [
       "   PassengerId  Survived\n",
       "0          892         0\n",
       "1          893         1\n",
       "2          894         0\n",
       "3          895         0\n",
       "4          896         1"
      ]
     },
     "execution_count": 113,
     "metadata": {},
     "output_type": "execute_result"
    }
   ],
   "source": [
    "predict_df.head()"
   ]
  },
  {
   "cell_type": "code",
   "execution_count": 114,
   "metadata": {
    "collapsed": true
   },
   "outputs": [],
   "source": [
    "predict_df.to_csv('predict_20181128.csv')"
   ]
  },
  {
   "cell_type": "code",
   "execution_count": null,
   "metadata": {
    "collapsed": true
   },
   "outputs": [],
   "source": []
  }
 ],
 "metadata": {
  "kernelspec": {
   "display_name": "Python 3",
   "language": "python",
   "name": "python3"
  },
  "language_info": {
   "codemirror_mode": {
    "name": "ipython",
    "version": 3
   },
   "file_extension": ".py",
   "mimetype": "text/x-python",
   "name": "python",
   "nbconvert_exporter": "python",
   "pygments_lexer": "ipython3",
   "version": "3.6.1"
  }
 },
 "nbformat": 4,
 "nbformat_minor": 2
}
